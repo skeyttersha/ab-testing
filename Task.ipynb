{
  "nbformat": 4,
  "nbformat_minor": 0,
  "metadata": {
    "colab": {
      "provenance": [],
      "authorship_tag": "ABX9TyMHfSZw59OQ2tmKiqObWS9w",
      "include_colab_link": true
    },
    "kernelspec": {
      "name": "python3",
      "display_name": "Python 3"
    },
    "language_info": {
      "name": "python"
    }
  },
  "cells": [
    {
      "cell_type": "markdown",
      "metadata": {
        "id": "view-in-github",
        "colab_type": "text"
      },
      "source": [
        "<a href=\"https://colab.research.google.com/github/skeyttersha/ab-testing/blob/master/Task.ipynb\" target=\"_parent\"><img src=\"https://colab.research.google.com/assets/colab-badge.svg\" alt=\"Open In Colab\"/></a>"
      ]
    },
    {
      "cell_type": "markdown",
      "source": [
        "## Введение"
      ],
      "metadata": {
        "id": "RIXxoH3eTrMQ"
      }
    },
    {
      "cell_type": "markdown",
      "source": [
        "В данном проекте представлены данные о **4-х компаниях**: Red, Black, Green, Blue. **Цель** - проанализировать данные с визуализацией и сформулировать выводы."
      ],
      "metadata": {
        "id": "F5uv5ln_Tu2_"
      }
    },
    {
      "cell_type": "markdown",
      "source": [
        "По компаниям предоставлены следующие **данные**:\n",
        "\n",
        "• Hid - human_id, зашифрованный персональный идентификатор пользователя компаний\n",
        "\n",
        "• has_company_id - наличие зарегистрированного аккаунта в компании\n",
        "\n",
        "• company_gmv_total - суммарный gmv пользователя в сервисе\n",
        "\n",
        "• company_gmv_order_count - количество успешных заказов пользователя в сервисе\n",
        "\n",
        "• company_activity_count - количество активных действий пользователя в сервисе\n",
        "\n",
        "• company_android - установленное у пользователя приложение компании на платформе android\n",
        "\n",
        "• company_apple - установленное у пользователя приложение компании на платформе Apple\n",
        "\n",
        "• company _web- установленное у пользователя приложение компании на ПК\n",
        "\n",
        "• is_msk - территориальное расположение в Москве"
      ],
      "metadata": {
        "id": "J-VV3ZwET6OR"
      }
    },
    {
      "cell_type": "markdown",
      "source": [
        "По описанию данных можно сказать о том, что почти все из них имеют булевый тип, кроме Hid, который отражает индификатор пользователя и имеет тип object, остальные три столбца тоже имеют иной тип: company_gmv_total, company_gim_order_count, company_activity_count имеют числовой формат."
      ],
      "metadata": {
        "id": "9RcJNruZT9MX"
      }
    },
    {
      "cell_type": "markdown",
      "source": [
        "**1. Импортируем файл и изучаем общую информацию.**"
      ],
      "metadata": {
        "id": "CidXzJzZUHYX"
      }
    },
    {
      "cell_type": "code",
      "source": [
        "import pandas as pd\n",
        "import matplotlib.pyplot as plt\n",
        "import seaborn as sns\n",
        "import pandas as pd\n",
        "import statsmodels.api as sm"
      ],
      "metadata": {
        "id": "-xuIsdztUGLA"
      },
      "execution_count": null,
      "outputs": []
    },
    {
      "cell_type": "code",
      "source": [
        "from google.colab import drive\n",
        "drive.mount('/content/drive')"
      ],
      "metadata": {
        "colab": {
          "base_uri": "https://localhost:8080/"
        },
        "id": "aMIbYW8v-vsJ",
        "outputId": "9ad70e72-aaca-4ac3-949e-1662cdd9774f"
      },
      "execution_count": null,
      "outputs": [
        {
          "output_type": "stream",
          "name": "stdout",
          "text": [
            "Drive already mounted at /content/drive; to attempt to forcibly remount, call drive.mount(\"/content/drive\", force_remount=True).\n"
          ]
        }
      ]
    },
    {
      "cell_type": "code",
      "source": [
        "data = pd.read_excel('/content/drive/MyDrive/Analytic_test.xlsx')"
      ],
      "metadata": {
        "id": "HyF0H_QNUMfj"
      },
      "execution_count": null,
      "outputs": []
    },
    {
      "cell_type": "code",
      "source": [
        "data.head()"
      ],
      "metadata": {
        "id": "t6dRe9U_UqOr",
        "colab": {
          "base_uri": "https://localhost:8080/",
          "height": 317
        },
        "outputId": "255825c5-7d26-4c2e-ead5-893f1e4fbdc0"
      },
      "execution_count": null,
      "outputs": [
        {
          "output_type": "execute_result",
          "data": {
            "text/plain": [
              "   Unnamed: 0                         Unnamed: 1  Unnamed: 2    Unnamed: 3  \\\n",
              "0         NaN                                HID  active_Red  has_Green_id   \n",
              "1         0.0  00003c7fb5e57ce673f1801f3679f5c25         0.0           0.0   \n",
              "2         1.0  00006b602533083e3bebfcbff08613931         1.0           0.0   \n",
              "3         2.0   0000736c3f76339196cb1cc759b8363b         1.0           0.0   \n",
              "4         3.0   00009bdcc5307b38efde8690b8bd658e         0.0           0.0   \n",
              "\n",
              "     Unnamed: 4   Unnamed: 5           Unnamed: 6      Unnamed: 7  \\\n",
              "0  has_Black_id  has_Blue_id  Blue_activity_count  Blue_gmv_total   \n",
              "1           0.0          1.0                  2.0             0.0   \n",
              "2           0.0          0.0                  0.0             0.0   \n",
              "3           0.0          0.0                  0.0             0.0   \n",
              "4           0.0          0.0                  0.0             0.0   \n",
              "\n",
              "        Unnamed: 8             Unnamed: 9  ...   Unnamed: 15 Unnamed: 16  \\\n",
              "0  Green_gvm_total  Green_gvm_order_count  ...  Blue_android   Red_apple   \n",
              "1              0.0                    0.0  ...           0.0         0.0   \n",
              "2              0.0                    0.0  ...           0.0         0.0   \n",
              "3              0.0                    0.0  ...           0.0         1.0   \n",
              "4              0.0                    0.0  ...           0.0         0.0   \n",
              "\n",
              "   Unnamed: 17  Unnamed: 18 Unnamed: 19 Unnamed: 20 Unnamed: 21 Unnamed: 22  \\\n",
              "0  Green_apple  Black_apple  Blue_apple      is_msk     Red_web   Green_web   \n",
              "1          0.0          0.0         0.0         0.0         0.0         0.0   \n",
              "2          0.0          0.0         0.0         0.0         1.0         0.0   \n",
              "3          0.0          1.0         0.0         0.0         0.0         0.0   \n",
              "4          0.0          0.0         0.0         0.0         1.0         0.0   \n",
              "\n",
              "  Unnamed: 23 Unnamed: 24  \n",
              "0   Black_web    Blue_web  \n",
              "1         0.0         0.0  \n",
              "2         0.0         0.0  \n",
              "3         0.0         0.0  \n",
              "4         0.0         0.0  \n",
              "\n",
              "[5 rows x 25 columns]"
            ],
            "text/html": [
              "\n",
              "  <div id=\"df-b3d277bf-bd2e-40ac-99a5-8f8ad3e193fd\">\n",
              "    <div class=\"colab-df-container\">\n",
              "      <div>\n",
              "<style scoped>\n",
              "    .dataframe tbody tr th:only-of-type {\n",
              "        vertical-align: middle;\n",
              "    }\n",
              "\n",
              "    .dataframe tbody tr th {\n",
              "        vertical-align: top;\n",
              "    }\n",
              "\n",
              "    .dataframe thead th {\n",
              "        text-align: right;\n",
              "    }\n",
              "</style>\n",
              "<table border=\"1\" class=\"dataframe\">\n",
              "  <thead>\n",
              "    <tr style=\"text-align: right;\">\n",
              "      <th></th>\n",
              "      <th>Unnamed: 0</th>\n",
              "      <th>Unnamed: 1</th>\n",
              "      <th>Unnamed: 2</th>\n",
              "      <th>Unnamed: 3</th>\n",
              "      <th>Unnamed: 4</th>\n",
              "      <th>Unnamed: 5</th>\n",
              "      <th>Unnamed: 6</th>\n",
              "      <th>Unnamed: 7</th>\n",
              "      <th>Unnamed: 8</th>\n",
              "      <th>Unnamed: 9</th>\n",
              "      <th>...</th>\n",
              "      <th>Unnamed: 15</th>\n",
              "      <th>Unnamed: 16</th>\n",
              "      <th>Unnamed: 17</th>\n",
              "      <th>Unnamed: 18</th>\n",
              "      <th>Unnamed: 19</th>\n",
              "      <th>Unnamed: 20</th>\n",
              "      <th>Unnamed: 21</th>\n",
              "      <th>Unnamed: 22</th>\n",
              "      <th>Unnamed: 23</th>\n",
              "      <th>Unnamed: 24</th>\n",
              "    </tr>\n",
              "  </thead>\n",
              "  <tbody>\n",
              "    <tr>\n",
              "      <th>0</th>\n",
              "      <td>NaN</td>\n",
              "      <td>HID</td>\n",
              "      <td>active_Red</td>\n",
              "      <td>has_Green_id</td>\n",
              "      <td>has_Black_id</td>\n",
              "      <td>has_Blue_id</td>\n",
              "      <td>Blue_activity_count</td>\n",
              "      <td>Blue_gmv_total</td>\n",
              "      <td>Green_gvm_total</td>\n",
              "      <td>Green_gvm_order_count</td>\n",
              "      <td>...</td>\n",
              "      <td>Blue_android</td>\n",
              "      <td>Red_apple</td>\n",
              "      <td>Green_apple</td>\n",
              "      <td>Black_apple</td>\n",
              "      <td>Blue_apple</td>\n",
              "      <td>is_msk</td>\n",
              "      <td>Red_web</td>\n",
              "      <td>Green_web</td>\n",
              "      <td>Black_web</td>\n",
              "      <td>Blue_web</td>\n",
              "    </tr>\n",
              "    <tr>\n",
              "      <th>1</th>\n",
              "      <td>0.0</td>\n",
              "      <td>00003c7fb5e57ce673f1801f3679f5c25</td>\n",
              "      <td>0.0</td>\n",
              "      <td>0.0</td>\n",
              "      <td>0.0</td>\n",
              "      <td>1.0</td>\n",
              "      <td>2.0</td>\n",
              "      <td>0.0</td>\n",
              "      <td>0.0</td>\n",
              "      <td>0.0</td>\n",
              "      <td>...</td>\n",
              "      <td>0.0</td>\n",
              "      <td>0.0</td>\n",
              "      <td>0.0</td>\n",
              "      <td>0.0</td>\n",
              "      <td>0.0</td>\n",
              "      <td>0.0</td>\n",
              "      <td>0.0</td>\n",
              "      <td>0.0</td>\n",
              "      <td>0.0</td>\n",
              "      <td>0.0</td>\n",
              "    </tr>\n",
              "    <tr>\n",
              "      <th>2</th>\n",
              "      <td>1.0</td>\n",
              "      <td>00006b602533083e3bebfcbff08613931</td>\n",
              "      <td>1.0</td>\n",
              "      <td>0.0</td>\n",
              "      <td>0.0</td>\n",
              "      <td>0.0</td>\n",
              "      <td>0.0</td>\n",
              "      <td>0.0</td>\n",
              "      <td>0.0</td>\n",
              "      <td>0.0</td>\n",
              "      <td>...</td>\n",
              "      <td>0.0</td>\n",
              "      <td>0.0</td>\n",
              "      <td>0.0</td>\n",
              "      <td>0.0</td>\n",
              "      <td>0.0</td>\n",
              "      <td>0.0</td>\n",
              "      <td>1.0</td>\n",
              "      <td>0.0</td>\n",
              "      <td>0.0</td>\n",
              "      <td>0.0</td>\n",
              "    </tr>\n",
              "    <tr>\n",
              "      <th>3</th>\n",
              "      <td>2.0</td>\n",
              "      <td>0000736c3f76339196cb1cc759b8363b</td>\n",
              "      <td>1.0</td>\n",
              "      <td>0.0</td>\n",
              "      <td>0.0</td>\n",
              "      <td>0.0</td>\n",
              "      <td>0.0</td>\n",
              "      <td>0.0</td>\n",
              "      <td>0.0</td>\n",
              "      <td>0.0</td>\n",
              "      <td>...</td>\n",
              "      <td>0.0</td>\n",
              "      <td>1.0</td>\n",
              "      <td>0.0</td>\n",
              "      <td>1.0</td>\n",
              "      <td>0.0</td>\n",
              "      <td>0.0</td>\n",
              "      <td>0.0</td>\n",
              "      <td>0.0</td>\n",
              "      <td>0.0</td>\n",
              "      <td>0.0</td>\n",
              "    </tr>\n",
              "    <tr>\n",
              "      <th>4</th>\n",
              "      <td>3.0</td>\n",
              "      <td>00009bdcc5307b38efde8690b8bd658e</td>\n",
              "      <td>0.0</td>\n",
              "      <td>0.0</td>\n",
              "      <td>0.0</td>\n",
              "      <td>0.0</td>\n",
              "      <td>0.0</td>\n",
              "      <td>0.0</td>\n",
              "      <td>0.0</td>\n",
              "      <td>0.0</td>\n",
              "      <td>...</td>\n",
              "      <td>0.0</td>\n",
              "      <td>0.0</td>\n",
              "      <td>0.0</td>\n",
              "      <td>0.0</td>\n",
              "      <td>0.0</td>\n",
              "      <td>0.0</td>\n",
              "      <td>1.0</td>\n",
              "      <td>0.0</td>\n",
              "      <td>0.0</td>\n",
              "      <td>0.0</td>\n",
              "    </tr>\n",
              "  </tbody>\n",
              "</table>\n",
              "<p>5 rows × 25 columns</p>\n",
              "</div>\n",
              "      <button class=\"colab-df-convert\" onclick=\"convertToInteractive('df-b3d277bf-bd2e-40ac-99a5-8f8ad3e193fd')\"\n",
              "              title=\"Convert this dataframe to an interactive table.\"\n",
              "              style=\"display:none;\">\n",
              "        \n",
              "  <svg xmlns=\"http://www.w3.org/2000/svg\" height=\"24px\"viewBox=\"0 0 24 24\"\n",
              "       width=\"24px\">\n",
              "    <path d=\"M0 0h24v24H0V0z\" fill=\"none\"/>\n",
              "    <path d=\"M18.56 5.44l.94 2.06.94-2.06 2.06-.94-2.06-.94-.94-2.06-.94 2.06-2.06.94zm-11 1L8.5 8.5l.94-2.06 2.06-.94-2.06-.94L8.5 2.5l-.94 2.06-2.06.94zm10 10l.94 2.06.94-2.06 2.06-.94-2.06-.94-.94-2.06-.94 2.06-2.06.94z\"/><path d=\"M17.41 7.96l-1.37-1.37c-.4-.4-.92-.59-1.43-.59-.52 0-1.04.2-1.43.59L10.3 9.45l-7.72 7.72c-.78.78-.78 2.05 0 2.83L4 21.41c.39.39.9.59 1.41.59.51 0 1.02-.2 1.41-.59l7.78-7.78 2.81-2.81c.8-.78.8-2.07 0-2.86zM5.41 20L4 18.59l7.72-7.72 1.47 1.35L5.41 20z\"/>\n",
              "  </svg>\n",
              "      </button>\n",
              "      \n",
              "  <style>\n",
              "    .colab-df-container {\n",
              "      display:flex;\n",
              "      flex-wrap:wrap;\n",
              "      gap: 12px;\n",
              "    }\n",
              "\n",
              "    .colab-df-convert {\n",
              "      background-color: #E8F0FE;\n",
              "      border: none;\n",
              "      border-radius: 50%;\n",
              "      cursor: pointer;\n",
              "      display: none;\n",
              "      fill: #1967D2;\n",
              "      height: 32px;\n",
              "      padding: 0 0 0 0;\n",
              "      width: 32px;\n",
              "    }\n",
              "\n",
              "    .colab-df-convert:hover {\n",
              "      background-color: #E2EBFA;\n",
              "      box-shadow: 0px 1px 2px rgba(60, 64, 67, 0.3), 0px 1px 3px 1px rgba(60, 64, 67, 0.15);\n",
              "      fill: #174EA6;\n",
              "    }\n",
              "\n",
              "    [theme=dark] .colab-df-convert {\n",
              "      background-color: #3B4455;\n",
              "      fill: #D2E3FC;\n",
              "    }\n",
              "\n",
              "    [theme=dark] .colab-df-convert:hover {\n",
              "      background-color: #434B5C;\n",
              "      box-shadow: 0px 1px 3px 1px rgba(0, 0, 0, 0.15);\n",
              "      filter: drop-shadow(0px 1px 2px rgba(0, 0, 0, 0.3));\n",
              "      fill: #FFFFFF;\n",
              "    }\n",
              "  </style>\n",
              "\n",
              "      <script>\n",
              "        const buttonEl =\n",
              "          document.querySelector('#df-b3d277bf-bd2e-40ac-99a5-8f8ad3e193fd button.colab-df-convert');\n",
              "        buttonEl.style.display =\n",
              "          google.colab.kernel.accessAllowed ? 'block' : 'none';\n",
              "\n",
              "        async function convertToInteractive(key) {\n",
              "          const element = document.querySelector('#df-b3d277bf-bd2e-40ac-99a5-8f8ad3e193fd');\n",
              "          const dataTable =\n",
              "            await google.colab.kernel.invokeFunction('convertToInteractive',\n",
              "                                                     [key], {});\n",
              "          if (!dataTable) return;\n",
              "\n",
              "          const docLinkHtml = 'Like what you see? Visit the ' +\n",
              "            '<a target=\"_blank\" href=https://colab.research.google.com/notebooks/data_table.ipynb>data table notebook</a>'\n",
              "            + ' to learn more about interactive tables.';\n",
              "          element.innerHTML = '';\n",
              "          dataTable['output_type'] = 'display_data';\n",
              "          await google.colab.output.renderOutput(dataTable, element);\n",
              "          const docLink = document.createElement('div');\n",
              "          docLink.innerHTML = docLinkHtml;\n",
              "          element.appendChild(docLink);\n",
              "        }\n",
              "      </script>\n",
              "    </div>\n",
              "  </div>\n",
              "  "
            ]
          },
          "metadata": {},
          "execution_count": 111
        }
      ]
    },
    {
      "cell_type": "markdown",
      "source": [
        "Приведем данные к удобному формату: сформируем столбцы, чтобы они отражали суть данных, удалим ненужные ."
      ],
      "metadata": {
        "id": "XLlyOpZbUwVr"
      }
    },
    {
      "cell_type": "code",
      "source": [
        "data = data.drop(data.columns[0], axis = 1)"
      ],
      "metadata": {
        "id": "bL5BZuPkUxKJ"
      },
      "execution_count": null,
      "outputs": []
    },
    {
      "cell_type": "code",
      "source": [
        "data.columns = data.iloc[0]"
      ],
      "metadata": {
        "id": "6DUO_jvQUyzk"
      },
      "execution_count": null,
      "outputs": []
    },
    {
      "cell_type": "code",
      "source": [
        "data.drop(index=data.index[0], axis = 0, inplace = True)"
      ],
      "metadata": {
        "id": "JZkqfR-oU0mu"
      },
      "execution_count": null,
      "outputs": []
    },
    {
      "cell_type": "code",
      "source": [
        "data"
      ],
      "metadata": {
        "id": "CHetZLUKU3Ca",
        "colab": {
          "base_uri": "https://localhost:8080/",
          "height": 487
        },
        "outputId": "8c13694f-daec-4360-d543-01134500680a"
      },
      "execution_count": null,
      "outputs": [
        {
          "output_type": "execute_result",
          "data": {
            "text/plain": [
              "0                                        HID active_Red has_Green_id  \\\n",
              "1          00003c7fb5e57ce673f1801f3679f5c25        0.0          0.0   \n",
              "2          00006b602533083e3bebfcbff08613931        1.0          0.0   \n",
              "3           0000736c3f76339196cb1cc759b8363b        1.0          0.0   \n",
              "4           00009bdcc5307b38efde8690b8bd658e        0.0          0.0   \n",
              "5          0000bc3186b7b31d9b35d3fbbb250b9f8        1.0          0.0   \n",
              "...                                      ...        ...          ...   \n",
              "99996   32555ec33d762588db3253b063525f03b58f        0.0          0.0   \n",
              "99997   3255600b525b2598b37775fb3b25b3397bbb        1.0          0.0   \n",
              "99998      325563dbbb35c393be38c5c79373ed180        1.0          0.0   \n",
              "99999    3255650825570bcc93bc9b076b0bfbb25e6        0.0          0.0   \n",
              "100000     325566ec18c0db59083f5f6bb1b5f93d5        0.0          0.0   \n",
              "\n",
              "0      has_Black_id has_Blue_id Blue_activity_count Blue_gmv_total  \\\n",
              "1               0.0         1.0                 2.0            0.0   \n",
              "2               0.0         0.0                 0.0            0.0   \n",
              "3               0.0         0.0                 0.0            0.0   \n",
              "4               0.0         0.0                 0.0            0.0   \n",
              "5               0.0         0.0                 0.0            0.0   \n",
              "...             ...         ...                 ...            ...   \n",
              "99996           0.0         0.0                 0.0            0.0   \n",
              "99997           0.0         0.0                 0.0            0.0   \n",
              "99998           0.0         0.0                 0.0            0.0   \n",
              "99999           0.0         0.0                 0.0            0.0   \n",
              "100000          0.0         0.0                 0.0            0.0   \n",
              "\n",
              "0      Green_gvm_total Green_gvm_order_count Black_gvm_total  ...  \\\n",
              "1                  0.0                   0.0             0.0  ...   \n",
              "2                  0.0                   0.0             0.0  ...   \n",
              "3                  0.0                   0.0             0.0  ...   \n",
              "4                  0.0                   0.0             0.0  ...   \n",
              "5                  0.0                   0.0             0.0  ...   \n",
              "...                ...                   ...             ...  ...   \n",
              "99996              0.0                   0.0             0.0  ...   \n",
              "99997              0.0                   0.0             0.0  ...   \n",
              "99998              0.0                   0.0             0.0  ...   \n",
              "99999              0.0                   0.0             0.0  ...   \n",
              "100000             0.0                   0.0             0.0  ...   \n",
              "\n",
              "0      Blue_android Red_apple Green_apple Black_apple Blue_apple is_msk  \\\n",
              "1               0.0       0.0         0.0         0.0        0.0    0.0   \n",
              "2               0.0       0.0         0.0         0.0        0.0    0.0   \n",
              "3               0.0       1.0         0.0         1.0        0.0    0.0   \n",
              "4               0.0       0.0         0.0         0.0        0.0    0.0   \n",
              "5               0.0       1.0         0.0         0.0        0.0    0.0   \n",
              "...             ...       ...         ...         ...        ...    ...   \n",
              "99996           0.0       0.0         0.0         0.0        0.0    1.0   \n",
              "99997           0.0       0.0         0.0         0.0        0.0    0.0   \n",
              "99998           0.0       0.0         0.0         0.0        0.0    0.0   \n",
              "99999           0.0       0.0         0.0         0.0        0.0    0.0   \n",
              "100000          0.0       0.0         0.0         0.0        0.0    0.0   \n",
              "\n",
              "0      Red_web Green_web Black_web Blue_web  \n",
              "1          0.0       0.0       0.0      0.0  \n",
              "2          1.0       0.0       0.0      0.0  \n",
              "3          0.0       0.0       0.0      0.0  \n",
              "4          1.0       0.0       0.0      0.0  \n",
              "5          0.0       0.0       0.0      0.0  \n",
              "...        ...       ...       ...      ...  \n",
              "99996      1.0       0.0       0.0      0.0  \n",
              "99997      1.0       0.0       0.0      0.0  \n",
              "99998      0.0       0.0       0.0      0.0  \n",
              "99999      1.0       0.0       0.0      0.0  \n",
              "100000     1.0       0.0       0.0      0.0  \n",
              "\n",
              "[100000 rows x 24 columns]"
            ],
            "text/html": [
              "\n",
              "  <div id=\"df-06444e5a-37e6-422d-9101-4f3513b1fd49\">\n",
              "    <div class=\"colab-df-container\">\n",
              "      <div>\n",
              "<style scoped>\n",
              "    .dataframe tbody tr th:only-of-type {\n",
              "        vertical-align: middle;\n",
              "    }\n",
              "\n",
              "    .dataframe tbody tr th {\n",
              "        vertical-align: top;\n",
              "    }\n",
              "\n",
              "    .dataframe thead th {\n",
              "        text-align: right;\n",
              "    }\n",
              "</style>\n",
              "<table border=\"1\" class=\"dataframe\">\n",
              "  <thead>\n",
              "    <tr style=\"text-align: right;\">\n",
              "      <th></th>\n",
              "      <th>HID</th>\n",
              "      <th>active_Red</th>\n",
              "      <th>has_Green_id</th>\n",
              "      <th>has_Black_id</th>\n",
              "      <th>has_Blue_id</th>\n",
              "      <th>Blue_activity_count</th>\n",
              "      <th>Blue_gmv_total</th>\n",
              "      <th>Green_gvm_total</th>\n",
              "      <th>Green_gvm_order_count</th>\n",
              "      <th>Black_gvm_total</th>\n",
              "      <th>...</th>\n",
              "      <th>Blue_android</th>\n",
              "      <th>Red_apple</th>\n",
              "      <th>Green_apple</th>\n",
              "      <th>Black_apple</th>\n",
              "      <th>Blue_apple</th>\n",
              "      <th>is_msk</th>\n",
              "      <th>Red_web</th>\n",
              "      <th>Green_web</th>\n",
              "      <th>Black_web</th>\n",
              "      <th>Blue_web</th>\n",
              "    </tr>\n",
              "  </thead>\n",
              "  <tbody>\n",
              "    <tr>\n",
              "      <th>1</th>\n",
              "      <td>00003c7fb5e57ce673f1801f3679f5c25</td>\n",
              "      <td>0.0</td>\n",
              "      <td>0.0</td>\n",
              "      <td>0.0</td>\n",
              "      <td>1.0</td>\n",
              "      <td>2.0</td>\n",
              "      <td>0.0</td>\n",
              "      <td>0.0</td>\n",
              "      <td>0.0</td>\n",
              "      <td>0.0</td>\n",
              "      <td>...</td>\n",
              "      <td>0.0</td>\n",
              "      <td>0.0</td>\n",
              "      <td>0.0</td>\n",
              "      <td>0.0</td>\n",
              "      <td>0.0</td>\n",
              "      <td>0.0</td>\n",
              "      <td>0.0</td>\n",
              "      <td>0.0</td>\n",
              "      <td>0.0</td>\n",
              "      <td>0.0</td>\n",
              "    </tr>\n",
              "    <tr>\n",
              "      <th>2</th>\n",
              "      <td>00006b602533083e3bebfcbff08613931</td>\n",
              "      <td>1.0</td>\n",
              "      <td>0.0</td>\n",
              "      <td>0.0</td>\n",
              "      <td>0.0</td>\n",
              "      <td>0.0</td>\n",
              "      <td>0.0</td>\n",
              "      <td>0.0</td>\n",
              "      <td>0.0</td>\n",
              "      <td>0.0</td>\n",
              "      <td>...</td>\n",
              "      <td>0.0</td>\n",
              "      <td>0.0</td>\n",
              "      <td>0.0</td>\n",
              "      <td>0.0</td>\n",
              "      <td>0.0</td>\n",
              "      <td>0.0</td>\n",
              "      <td>1.0</td>\n",
              "      <td>0.0</td>\n",
              "      <td>0.0</td>\n",
              "      <td>0.0</td>\n",
              "    </tr>\n",
              "    <tr>\n",
              "      <th>3</th>\n",
              "      <td>0000736c3f76339196cb1cc759b8363b</td>\n",
              "      <td>1.0</td>\n",
              "      <td>0.0</td>\n",
              "      <td>0.0</td>\n",
              "      <td>0.0</td>\n",
              "      <td>0.0</td>\n",
              "      <td>0.0</td>\n",
              "      <td>0.0</td>\n",
              "      <td>0.0</td>\n",
              "      <td>0.0</td>\n",
              "      <td>...</td>\n",
              "      <td>0.0</td>\n",
              "      <td>1.0</td>\n",
              "      <td>0.0</td>\n",
              "      <td>1.0</td>\n",
              "      <td>0.0</td>\n",
              "      <td>0.0</td>\n",
              "      <td>0.0</td>\n",
              "      <td>0.0</td>\n",
              "      <td>0.0</td>\n",
              "      <td>0.0</td>\n",
              "    </tr>\n",
              "    <tr>\n",
              "      <th>4</th>\n",
              "      <td>00009bdcc5307b38efde8690b8bd658e</td>\n",
              "      <td>0.0</td>\n",
              "      <td>0.0</td>\n",
              "      <td>0.0</td>\n",
              "      <td>0.0</td>\n",
              "      <td>0.0</td>\n",
              "      <td>0.0</td>\n",
              "      <td>0.0</td>\n",
              "      <td>0.0</td>\n",
              "      <td>0.0</td>\n",
              "      <td>...</td>\n",
              "      <td>0.0</td>\n",
              "      <td>0.0</td>\n",
              "      <td>0.0</td>\n",
              "      <td>0.0</td>\n",
              "      <td>0.0</td>\n",
              "      <td>0.0</td>\n",
              "      <td>1.0</td>\n",
              "      <td>0.0</td>\n",
              "      <td>0.0</td>\n",
              "      <td>0.0</td>\n",
              "    </tr>\n",
              "    <tr>\n",
              "      <th>5</th>\n",
              "      <td>0000bc3186b7b31d9b35d3fbbb250b9f8</td>\n",
              "      <td>1.0</td>\n",
              "      <td>0.0</td>\n",
              "      <td>0.0</td>\n",
              "      <td>0.0</td>\n",
              "      <td>0.0</td>\n",
              "      <td>0.0</td>\n",
              "      <td>0.0</td>\n",
              "      <td>0.0</td>\n",
              "      <td>0.0</td>\n",
              "      <td>...</td>\n",
              "      <td>0.0</td>\n",
              "      <td>1.0</td>\n",
              "      <td>0.0</td>\n",
              "      <td>0.0</td>\n",
              "      <td>0.0</td>\n",
              "      <td>0.0</td>\n",
              "      <td>0.0</td>\n",
              "      <td>0.0</td>\n",
              "      <td>0.0</td>\n",
              "      <td>0.0</td>\n",
              "    </tr>\n",
              "    <tr>\n",
              "      <th>...</th>\n",
              "      <td>...</td>\n",
              "      <td>...</td>\n",
              "      <td>...</td>\n",
              "      <td>...</td>\n",
              "      <td>...</td>\n",
              "      <td>...</td>\n",
              "      <td>...</td>\n",
              "      <td>...</td>\n",
              "      <td>...</td>\n",
              "      <td>...</td>\n",
              "      <td>...</td>\n",
              "      <td>...</td>\n",
              "      <td>...</td>\n",
              "      <td>...</td>\n",
              "      <td>...</td>\n",
              "      <td>...</td>\n",
              "      <td>...</td>\n",
              "      <td>...</td>\n",
              "      <td>...</td>\n",
              "      <td>...</td>\n",
              "      <td>...</td>\n",
              "    </tr>\n",
              "    <tr>\n",
              "      <th>99996</th>\n",
              "      <td>32555ec33d762588db3253b063525f03b58f</td>\n",
              "      <td>0.0</td>\n",
              "      <td>0.0</td>\n",
              "      <td>0.0</td>\n",
              "      <td>0.0</td>\n",
              "      <td>0.0</td>\n",
              "      <td>0.0</td>\n",
              "      <td>0.0</td>\n",
              "      <td>0.0</td>\n",
              "      <td>0.0</td>\n",
              "      <td>...</td>\n",
              "      <td>0.0</td>\n",
              "      <td>0.0</td>\n",
              "      <td>0.0</td>\n",
              "      <td>0.0</td>\n",
              "      <td>0.0</td>\n",
              "      <td>1.0</td>\n",
              "      <td>1.0</td>\n",
              "      <td>0.0</td>\n",
              "      <td>0.0</td>\n",
              "      <td>0.0</td>\n",
              "    </tr>\n",
              "    <tr>\n",
              "      <th>99997</th>\n",
              "      <td>3255600b525b2598b37775fb3b25b3397bbb</td>\n",
              "      <td>1.0</td>\n",
              "      <td>0.0</td>\n",
              "      <td>0.0</td>\n",
              "      <td>0.0</td>\n",
              "      <td>0.0</td>\n",
              "      <td>0.0</td>\n",
              "      <td>0.0</td>\n",
              "      <td>0.0</td>\n",
              "      <td>0.0</td>\n",
              "      <td>...</td>\n",
              "      <td>0.0</td>\n",
              "      <td>0.0</td>\n",
              "      <td>0.0</td>\n",
              "      <td>0.0</td>\n",
              "      <td>0.0</td>\n",
              "      <td>0.0</td>\n",
              "      <td>1.0</td>\n",
              "      <td>0.0</td>\n",
              "      <td>0.0</td>\n",
              "      <td>0.0</td>\n",
              "    </tr>\n",
              "    <tr>\n",
              "      <th>99998</th>\n",
              "      <td>325563dbbb35c393be38c5c79373ed180</td>\n",
              "      <td>1.0</td>\n",
              "      <td>0.0</td>\n",
              "      <td>0.0</td>\n",
              "      <td>0.0</td>\n",
              "      <td>0.0</td>\n",
              "      <td>0.0</td>\n",
              "      <td>0.0</td>\n",
              "      <td>0.0</td>\n",
              "      <td>0.0</td>\n",
              "      <td>...</td>\n",
              "      <td>0.0</td>\n",
              "      <td>0.0</td>\n",
              "      <td>0.0</td>\n",
              "      <td>0.0</td>\n",
              "      <td>0.0</td>\n",
              "      <td>0.0</td>\n",
              "      <td>0.0</td>\n",
              "      <td>0.0</td>\n",
              "      <td>0.0</td>\n",
              "      <td>0.0</td>\n",
              "    </tr>\n",
              "    <tr>\n",
              "      <th>99999</th>\n",
              "      <td>3255650825570bcc93bc9b076b0bfbb25e6</td>\n",
              "      <td>0.0</td>\n",
              "      <td>0.0</td>\n",
              "      <td>0.0</td>\n",
              "      <td>0.0</td>\n",
              "      <td>0.0</td>\n",
              "      <td>0.0</td>\n",
              "      <td>0.0</td>\n",
              "      <td>0.0</td>\n",
              "      <td>0.0</td>\n",
              "      <td>...</td>\n",
              "      <td>0.0</td>\n",
              "      <td>0.0</td>\n",
              "      <td>0.0</td>\n",
              "      <td>0.0</td>\n",
              "      <td>0.0</td>\n",
              "      <td>0.0</td>\n",
              "      <td>1.0</td>\n",
              "      <td>0.0</td>\n",
              "      <td>0.0</td>\n",
              "      <td>0.0</td>\n",
              "    </tr>\n",
              "    <tr>\n",
              "      <th>100000</th>\n",
              "      <td>325566ec18c0db59083f5f6bb1b5f93d5</td>\n",
              "      <td>0.0</td>\n",
              "      <td>0.0</td>\n",
              "      <td>0.0</td>\n",
              "      <td>0.0</td>\n",
              "      <td>0.0</td>\n",
              "      <td>0.0</td>\n",
              "      <td>0.0</td>\n",
              "      <td>0.0</td>\n",
              "      <td>0.0</td>\n",
              "      <td>...</td>\n",
              "      <td>0.0</td>\n",
              "      <td>0.0</td>\n",
              "      <td>0.0</td>\n",
              "      <td>0.0</td>\n",
              "      <td>0.0</td>\n",
              "      <td>0.0</td>\n",
              "      <td>1.0</td>\n",
              "      <td>0.0</td>\n",
              "      <td>0.0</td>\n",
              "      <td>0.0</td>\n",
              "    </tr>\n",
              "  </tbody>\n",
              "</table>\n",
              "<p>100000 rows × 24 columns</p>\n",
              "</div>\n",
              "      <button class=\"colab-df-convert\" onclick=\"convertToInteractive('df-06444e5a-37e6-422d-9101-4f3513b1fd49')\"\n",
              "              title=\"Convert this dataframe to an interactive table.\"\n",
              "              style=\"display:none;\">\n",
              "        \n",
              "  <svg xmlns=\"http://www.w3.org/2000/svg\" height=\"24px\"viewBox=\"0 0 24 24\"\n",
              "       width=\"24px\">\n",
              "    <path d=\"M0 0h24v24H0V0z\" fill=\"none\"/>\n",
              "    <path d=\"M18.56 5.44l.94 2.06.94-2.06 2.06-.94-2.06-.94-.94-2.06-.94 2.06-2.06.94zm-11 1L8.5 8.5l.94-2.06 2.06-.94-2.06-.94L8.5 2.5l-.94 2.06-2.06.94zm10 10l.94 2.06.94-2.06 2.06-.94-2.06-.94-.94-2.06-.94 2.06-2.06.94z\"/><path d=\"M17.41 7.96l-1.37-1.37c-.4-.4-.92-.59-1.43-.59-.52 0-1.04.2-1.43.59L10.3 9.45l-7.72 7.72c-.78.78-.78 2.05 0 2.83L4 21.41c.39.39.9.59 1.41.59.51 0 1.02-.2 1.41-.59l7.78-7.78 2.81-2.81c.8-.78.8-2.07 0-2.86zM5.41 20L4 18.59l7.72-7.72 1.47 1.35L5.41 20z\"/>\n",
              "  </svg>\n",
              "      </button>\n",
              "      \n",
              "  <style>\n",
              "    .colab-df-container {\n",
              "      display:flex;\n",
              "      flex-wrap:wrap;\n",
              "      gap: 12px;\n",
              "    }\n",
              "\n",
              "    .colab-df-convert {\n",
              "      background-color: #E8F0FE;\n",
              "      border: none;\n",
              "      border-radius: 50%;\n",
              "      cursor: pointer;\n",
              "      display: none;\n",
              "      fill: #1967D2;\n",
              "      height: 32px;\n",
              "      padding: 0 0 0 0;\n",
              "      width: 32px;\n",
              "    }\n",
              "\n",
              "    .colab-df-convert:hover {\n",
              "      background-color: #E2EBFA;\n",
              "      box-shadow: 0px 1px 2px rgba(60, 64, 67, 0.3), 0px 1px 3px 1px rgba(60, 64, 67, 0.15);\n",
              "      fill: #174EA6;\n",
              "    }\n",
              "\n",
              "    [theme=dark] .colab-df-convert {\n",
              "      background-color: #3B4455;\n",
              "      fill: #D2E3FC;\n",
              "    }\n",
              "\n",
              "    [theme=dark] .colab-df-convert:hover {\n",
              "      background-color: #434B5C;\n",
              "      box-shadow: 0px 1px 3px 1px rgba(0, 0, 0, 0.15);\n",
              "      filter: drop-shadow(0px 1px 2px rgba(0, 0, 0, 0.3));\n",
              "      fill: #FFFFFF;\n",
              "    }\n",
              "  </style>\n",
              "\n",
              "      <script>\n",
              "        const buttonEl =\n",
              "          document.querySelector('#df-06444e5a-37e6-422d-9101-4f3513b1fd49 button.colab-df-convert');\n",
              "        buttonEl.style.display =\n",
              "          google.colab.kernel.accessAllowed ? 'block' : 'none';\n",
              "\n",
              "        async function convertToInteractive(key) {\n",
              "          const element = document.querySelector('#df-06444e5a-37e6-422d-9101-4f3513b1fd49');\n",
              "          const dataTable =\n",
              "            await google.colab.kernel.invokeFunction('convertToInteractive',\n",
              "                                                     [key], {});\n",
              "          if (!dataTable) return;\n",
              "\n",
              "          const docLinkHtml = 'Like what you see? Visit the ' +\n",
              "            '<a target=\"_blank\" href=https://colab.research.google.com/notebooks/data_table.ipynb>data table notebook</a>'\n",
              "            + ' to learn more about interactive tables.';\n",
              "          element.innerHTML = '';\n",
              "          dataTable['output_type'] = 'display_data';\n",
              "          await google.colab.output.renderOutput(dataTable, element);\n",
              "          const docLink = document.createElement('div');\n",
              "          docLink.innerHTML = docLinkHtml;\n",
              "          element.appendChild(docLink);\n",
              "        }\n",
              "      </script>\n",
              "    </div>\n",
              "  </div>\n",
              "  "
            ]
          },
          "metadata": {},
          "execution_count": 115
        }
      ]
    },
    {
      "cell_type": "code",
      "source": [
        "data.info()"
      ],
      "metadata": {
        "id": "pwYRcOhyU4uL",
        "colab": {
          "base_uri": "https://localhost:8080/"
        },
        "outputId": "96d702b0-4c72-4524-b72d-22f7b27ffe7b"
      },
      "execution_count": null,
      "outputs": [
        {
          "output_type": "stream",
          "name": "stdout",
          "text": [
            "<class 'pandas.core.frame.DataFrame'>\n",
            "RangeIndex: 100000 entries, 1 to 100000\n",
            "Data columns (total 24 columns):\n",
            " #   Column                 Non-Null Count   Dtype \n",
            "---  ------                 --------------   ----- \n",
            " 0   HID                    100000 non-null  object\n",
            " 1   active_Red             100000 non-null  object\n",
            " 2   has_Green_id           100000 non-null  object\n",
            " 3   has_Black_id           100000 non-null  object\n",
            " 4   has_Blue_id            100000 non-null  object\n",
            " 5   Blue_activity_count    100000 non-null  object\n",
            " 6   Blue_gmv_total         99999 non-null   object\n",
            " 7   Green_gvm_total        100000 non-null  object\n",
            " 8   Green_gvm_order_count  100000 non-null  object\n",
            " 9   Black_gvm_total        100000 non-null  object\n",
            " 10  Black_gvm_order_count  100000 non-null  object\n",
            " 11  Red_android            100000 non-null  object\n",
            " 12  Green_android          100000 non-null  object\n",
            " 13  Black_android          100000 non-null  object\n",
            " 14  Blue_android           100000 non-null  object\n",
            " 15  Red_apple              100000 non-null  object\n",
            " 16  Green_apple            100000 non-null  object\n",
            " 17  Black_apple            100000 non-null  object\n",
            " 18  Blue_apple             100000 non-null  object\n",
            " 19  is_msk                 100000 non-null  object\n",
            " 20  Red_web                100000 non-null  object\n",
            " 21  Green_web              100000 non-null  object\n",
            " 22  Black_web              100000 non-null  object\n",
            " 23  Blue_web               100000 non-null  object\n",
            "dtypes: object(24)\n",
            "memory usage: 18.3+ MB\n"
          ]
        }
      ]
    },
    {
      "cell_type": "code",
      "source": [
        "# Приведем к нужным типам данные.\n",
        "for col in data.columns:\n",
        "    if 'total' in str(col):\n",
        "        data[col] = pd.to_numeric(data[col])"
      ],
      "metadata": {
        "id": "w0twN-VZU6Nq"
      },
      "execution_count": null,
      "outputs": []
    },
    {
      "cell_type": "code",
      "source": [
        "data.info()"
      ],
      "metadata": {
        "id": "RB7CTxkGU8Wf",
        "colab": {
          "base_uri": "https://localhost:8080/"
        },
        "outputId": "f5351d13-9400-4a4d-c443-e678dbba159d"
      },
      "execution_count": null,
      "outputs": [
        {
          "output_type": "stream",
          "name": "stdout",
          "text": [
            "<class 'pandas.core.frame.DataFrame'>\n",
            "RangeIndex: 100000 entries, 1 to 100000\n",
            "Data columns (total 24 columns):\n",
            " #   Column                 Non-Null Count   Dtype  \n",
            "---  ------                 --------------   -----  \n",
            " 0   HID                    100000 non-null  object \n",
            " 1   active_Red             100000 non-null  object \n",
            " 2   has_Green_id           100000 non-null  object \n",
            " 3   has_Black_id           100000 non-null  object \n",
            " 4   has_Blue_id            100000 non-null  object \n",
            " 5   Blue_activity_count    100000 non-null  object \n",
            " 6   Blue_gmv_total         99999 non-null   float64\n",
            " 7   Green_gvm_total        100000 non-null  float64\n",
            " 8   Green_gvm_order_count  100000 non-null  object \n",
            " 9   Black_gvm_total        100000 non-null  float64\n",
            " 10  Black_gvm_order_count  100000 non-null  object \n",
            " 11  Red_android            100000 non-null  object \n",
            " 12  Green_android          100000 non-null  object \n",
            " 13  Black_android          100000 non-null  object \n",
            " 14  Blue_android           100000 non-null  object \n",
            " 15  Red_apple              100000 non-null  object \n",
            " 16  Green_apple            100000 non-null  object \n",
            " 17  Black_apple            100000 non-null  object \n",
            " 18  Blue_apple             100000 non-null  object \n",
            " 19  is_msk                 100000 non-null  object \n",
            " 20  Red_web                100000 non-null  object \n",
            " 21  Green_web              100000 non-null  object \n",
            " 22  Black_web              100000 non-null  object \n",
            " 23  Blue_web               100000 non-null  object \n",
            "dtypes: float64(3), object(21)\n",
            "memory usage: 18.3+ MB\n"
          ]
        }
      ]
    },
    {
      "cell_type": "markdown",
      "source": [
        "Все столбцы с total удалось перевести в числовой формат, чего не удается сделать с count. Значит, там есть данные, которые имеют другой формат, может, это выбросы. Решим эту задачу по ходу проекта."
      ],
      "metadata": {
        "id": "Sjt7bV_yU-E1"
      }
    },
    {
      "cell_type": "code",
      "source": [
        "data.columns = data.columns.str.lower()"
      ],
      "metadata": {
        "id": "WIuTvqa8VAEc"
      },
      "execution_count": null,
      "outputs": []
    },
    {
      "cell_type": "code",
      "source": [
        "data.columns"
      ],
      "metadata": {
        "id": "sVUDbv36VB9v",
        "colab": {
          "base_uri": "https://localhost:8080/"
        },
        "outputId": "cc8f95cd-2033-4888-e181-bc5ceb3879be"
      },
      "execution_count": null,
      "outputs": [
        {
          "output_type": "execute_result",
          "data": {
            "text/plain": [
              "Index(['hid', 'active_red', 'has_green_id', 'has_black_id', 'has_blue_id',\n",
              "       'blue_activity_count', 'blue_gmv_total', 'green_gvm_total',\n",
              "       'green_gvm_order_count', 'black_gvm_total', 'black_gvm_order_count',\n",
              "       'red_android', 'green_android', 'black_android', 'blue_android',\n",
              "       'red_apple', 'green_apple', 'black_apple', 'blue_apple', 'is_msk',\n",
              "       'red_web', 'green_web', 'black_web', 'blue_web'],\n",
              "      dtype='object', name=0)"
            ]
          },
          "metadata": {},
          "execution_count": 120
        }
      ]
    },
    {
      "cell_type": "code",
      "source": [
        "data.isna().sum()"
      ],
      "metadata": {
        "id": "7uRmwloJVDP4",
        "colab": {
          "base_uri": "https://localhost:8080/"
        },
        "outputId": "e8520b49-59ac-465a-c798-20524f086cc6"
      },
      "execution_count": null,
      "outputs": [
        {
          "output_type": "execute_result",
          "data": {
            "text/plain": [
              "0\n",
              "hid                      0\n",
              "active_red               0\n",
              "has_green_id             0\n",
              "has_black_id             0\n",
              "has_blue_id              0\n",
              "blue_activity_count      0\n",
              "blue_gmv_total           1\n",
              "green_gvm_total          0\n",
              "green_gvm_order_count    0\n",
              "black_gvm_total          0\n",
              "black_gvm_order_count    0\n",
              "red_android              0\n",
              "green_android            0\n",
              "black_android            0\n",
              "blue_android             0\n",
              "red_apple                0\n",
              "green_apple              0\n",
              "black_apple              0\n",
              "blue_apple               0\n",
              "is_msk                   0\n",
              "red_web                  0\n",
              "green_web                0\n",
              "black_web                0\n",
              "blue_web                 0\n",
              "dtype: int64"
            ]
          },
          "metadata": {},
          "execution_count": 121
        }
      ]
    },
    {
      "cell_type": "code",
      "source": [
        "# Проверим дубликаты.\n",
        "data.duplicated().sum()"
      ],
      "metadata": {
        "id": "yfj8-ZJyVFGp",
        "colab": {
          "base_uri": "https://localhost:8080/"
        },
        "outputId": "1076d85d-3004-4764-ee0d-f599b7da0789"
      },
      "execution_count": null,
      "outputs": [
        {
          "output_type": "execute_result",
          "data": {
            "text/plain": [
              "0"
            ]
          },
          "metadata": {},
          "execution_count": 122
        }
      ]
    },
    {
      "cell_type": "code",
      "source": [
        "data.hid.duplicated().sum()"
      ],
      "metadata": {
        "id": "2Zd39hdoVGuC",
        "colab": {
          "base_uri": "https://localhost:8080/"
        },
        "outputId": "9ef4038a-b931-497e-9acd-dc5110d11382"
      },
      "execution_count": null,
      "outputs": [
        {
          "output_type": "execute_result",
          "data": {
            "text/plain": [
              "0"
            ]
          },
          "metadata": {},
          "execution_count": 123
        }
      ]
    },
    {
      "cell_type": "markdown",
      "source": [
        "После проверки на дубликаты по всем строкам, отдельно по id, мы видим, что данные не повторяются, кроме того есть всего 1 пропуск."
      ],
      "metadata": {
        "id": "DG65JzwmVJ68"
      }
    },
    {
      "cell_type": "markdown",
      "source": [
        "Создадим функцию для проверки целостности данных по каждой компании. Для каждой должно быть 7 столбцов, то есть:\n",
        "    \n",
        "• has_company_id - наличие зарегистрированного аккаунта в компании\n",
        "\n",
        "• company_gmv_total - суммарный gmv пользователя в сервисе\n",
        "\n",
        "• company_gim_order_count - количество успешных заказов пользователя в сервисе\n",
        "\n",
        "• company_activity_count - количество активных действий пользователя в сервисе\n",
        "\n",
        "• company_android - установленное у пользователя приложение компании на платформе android\n",
        "\n",
        "• company_apple - установленное у пользователя приложение компании на платформе Apple\n",
        "\n",
        "• company _web- установленное у пользователя приложение компании на ПК"
      ],
      "metadata": {
        "id": "iUkrsFtIVL7M"
      }
    },
    {
      "cell_type": "code",
      "source": [
        "def company(name):\n",
        "    for col in data.columns:\n",
        "        if name in str(col):\n",
        "            print(col)"
      ],
      "metadata": {
        "id": "WqYHxwpRVNxE"
      },
      "execution_count": null,
      "outputs": []
    },
    {
      "cell_type": "code",
      "source": [
        "company('green')"
      ],
      "metadata": {
        "id": "RA8Qcdt0VRsP",
        "colab": {
          "base_uri": "https://localhost:8080/"
        },
        "outputId": "bf5878a6-9bb4-424b-dd01-251c6cdb20d7"
      },
      "execution_count": null,
      "outputs": [
        {
          "output_type": "stream",
          "name": "stdout",
          "text": [
            "has_green_id\n",
            "green_gvm_total\n",
            "green_gvm_order_count\n",
            "green_android\n",
            "green_apple\n",
            "green_web\n"
          ]
        }
      ]
    },
    {
      "cell_type": "code",
      "source": [
        "company('red')"
      ],
      "metadata": {
        "id": "eprd9fFDVTH0",
        "colab": {
          "base_uri": "https://localhost:8080/"
        },
        "outputId": "4146f673-339a-4cd7-9022-f13d44d7c0d4"
      },
      "execution_count": null,
      "outputs": [
        {
          "output_type": "stream",
          "name": "stdout",
          "text": [
            "active_red\n",
            "red_android\n",
            "red_apple\n",
            "red_web\n"
          ]
        }
      ]
    },
    {
      "cell_type": "code",
      "source": [
        "company('blue')"
      ],
      "metadata": {
        "id": "tS-Wdsk7VVG2",
        "colab": {
          "base_uri": "https://localhost:8080/"
        },
        "outputId": "9f5b5fc6-3b8d-4ec2-c2e3-ed4bb0d60c0b"
      },
      "execution_count": null,
      "outputs": [
        {
          "output_type": "stream",
          "name": "stdout",
          "text": [
            "has_blue_id\n",
            "blue_activity_count\n",
            "blue_gmv_total\n",
            "blue_android\n",
            "blue_apple\n",
            "blue_web\n"
          ]
        }
      ]
    },
    {
      "cell_type": "code",
      "source": [
        "company('black')"
      ],
      "metadata": {
        "id": "xVz9RYkuVXC6",
        "colab": {
          "base_uri": "https://localhost:8080/"
        },
        "outputId": "8d502064-e185-41be-ee24-291230e6ef0a"
      },
      "execution_count": null,
      "outputs": [
        {
          "output_type": "stream",
          "name": "stdout",
          "text": [
            "has_black_id\n",
            "black_gvm_total\n",
            "black_gvm_order_count\n",
            "black_android\n",
            "black_apple\n",
            "black_web\n"
          ]
        }
      ]
    },
    {
      "cell_type": "markdown",
      "source": [
        "Мы видим, что ни в одной из компаний нет всех данных,  кол-во столбцов - 6 в каждой компании, кроме Red, в ней всего 4 и название столбца active_Red явно нужно переименовать в Red_activity_count. Кроме того gmv в некоторых столбах написано с ошибкой. Исправим и этот дефект."
      ],
      "metadata": {
        "id": "DfO6z1YGVYlm"
      }
    },
    {
      "cell_type": "code",
      "source": [
        "data = data.rename(columns = {'active_red':'red_activity_count','black_gvm_total':'black_gmv_total','black_gvm_order_count':'black_gmv_order_count','green_gvm_total':'green_gmv_total', 'green_gmv_total':'green_gvm_total' })"
      ],
      "metadata": {
        "id": "Ps8ag9zLVaoS"
      },
      "execution_count": null,
      "outputs": []
    },
    {
      "cell_type": "code",
      "source": [
        "data.describe(include=[object])"
      ],
      "metadata": {
        "id": "Is_wsux0Vcc9",
        "colab": {
          "base_uri": "https://localhost:8080/",
          "height": 268
        },
        "outputId": "d534ade3-f6bc-44f6-b9eb-81400721b5b7"
      },
      "execution_count": null,
      "outputs": [
        {
          "output_type": "execute_result",
          "data": {
            "text/plain": [
              "0                                     hid red_activity_count has_green_id  \\\n",
              "count                              100000             100000       100000   \n",
              "unique                             100000                  2            3   \n",
              "top     00003c7fb5e57ce673f1801f3679f5c25                1.0          0.0   \n",
              "freq                                    1              55874        99114   \n",
              "\n",
              "0      has_black_id has_blue_id blue_activity_count green_gvm_order_count  \\\n",
              "count        100000      100000              100000                100000   \n",
              "unique            3           5                  69                    71   \n",
              "top             0.0         0.0                 0.0                   0.0   \n",
              "freq          98921       86734               96112                 99114   \n",
              "\n",
              "0      black_gmv_order_count red_android green_android  ... blue_android  \\\n",
              "count                 100000      100000        100000  ...       100000   \n",
              "unique                    39           2             2  ...            2   \n",
              "top                      0.0         0.0           0.0  ...          0.0   \n",
              "freq                   98921       67867         99454  ...        91953   \n",
              "\n",
              "0      red_apple green_apple black_apple blue_apple  is_msk red_web green_web  \\\n",
              "count     100000      100000      100000     100000  100000  100000    100000   \n",
              "unique         2           2           2          2       2       2         2   \n",
              "top          0.0         0.0         0.0        0.0     0.0     1.0       0.0   \n",
              "freq       89126       99384       98218      95354   88079   67108     99802   \n",
              "\n",
              "0      black_web blue_web  \n",
              "count     100000   100000  \n",
              "unique         2        2  \n",
              "top          0.0      0.0  \n",
              "freq       98539    89360  \n",
              "\n",
              "[4 rows x 21 columns]"
            ],
            "text/html": [
              "\n",
              "  <div id=\"df-f73bbea5-44bc-439f-a91c-6401d8460b7f\">\n",
              "    <div class=\"colab-df-container\">\n",
              "      <div>\n",
              "<style scoped>\n",
              "    .dataframe tbody tr th:only-of-type {\n",
              "        vertical-align: middle;\n",
              "    }\n",
              "\n",
              "    .dataframe tbody tr th {\n",
              "        vertical-align: top;\n",
              "    }\n",
              "\n",
              "    .dataframe thead th {\n",
              "        text-align: right;\n",
              "    }\n",
              "</style>\n",
              "<table border=\"1\" class=\"dataframe\">\n",
              "  <thead>\n",
              "    <tr style=\"text-align: right;\">\n",
              "      <th></th>\n",
              "      <th>hid</th>\n",
              "      <th>red_activity_count</th>\n",
              "      <th>has_green_id</th>\n",
              "      <th>has_black_id</th>\n",
              "      <th>has_blue_id</th>\n",
              "      <th>blue_activity_count</th>\n",
              "      <th>green_gvm_order_count</th>\n",
              "      <th>black_gmv_order_count</th>\n",
              "      <th>red_android</th>\n",
              "      <th>green_android</th>\n",
              "      <th>...</th>\n",
              "      <th>blue_android</th>\n",
              "      <th>red_apple</th>\n",
              "      <th>green_apple</th>\n",
              "      <th>black_apple</th>\n",
              "      <th>blue_apple</th>\n",
              "      <th>is_msk</th>\n",
              "      <th>red_web</th>\n",
              "      <th>green_web</th>\n",
              "      <th>black_web</th>\n",
              "      <th>blue_web</th>\n",
              "    </tr>\n",
              "  </thead>\n",
              "  <tbody>\n",
              "    <tr>\n",
              "      <th>count</th>\n",
              "      <td>100000</td>\n",
              "      <td>100000</td>\n",
              "      <td>100000</td>\n",
              "      <td>100000</td>\n",
              "      <td>100000</td>\n",
              "      <td>100000</td>\n",
              "      <td>100000</td>\n",
              "      <td>100000</td>\n",
              "      <td>100000</td>\n",
              "      <td>100000</td>\n",
              "      <td>...</td>\n",
              "      <td>100000</td>\n",
              "      <td>100000</td>\n",
              "      <td>100000</td>\n",
              "      <td>100000</td>\n",
              "      <td>100000</td>\n",
              "      <td>100000</td>\n",
              "      <td>100000</td>\n",
              "      <td>100000</td>\n",
              "      <td>100000</td>\n",
              "      <td>100000</td>\n",
              "    </tr>\n",
              "    <tr>\n",
              "      <th>unique</th>\n",
              "      <td>100000</td>\n",
              "      <td>2</td>\n",
              "      <td>3</td>\n",
              "      <td>3</td>\n",
              "      <td>5</td>\n",
              "      <td>69</td>\n",
              "      <td>71</td>\n",
              "      <td>39</td>\n",
              "      <td>2</td>\n",
              "      <td>2</td>\n",
              "      <td>...</td>\n",
              "      <td>2</td>\n",
              "      <td>2</td>\n",
              "      <td>2</td>\n",
              "      <td>2</td>\n",
              "      <td>2</td>\n",
              "      <td>2</td>\n",
              "      <td>2</td>\n",
              "      <td>2</td>\n",
              "      <td>2</td>\n",
              "      <td>2</td>\n",
              "    </tr>\n",
              "    <tr>\n",
              "      <th>top</th>\n",
              "      <td>00003c7fb5e57ce673f1801f3679f5c25</td>\n",
              "      <td>1.0</td>\n",
              "      <td>0.0</td>\n",
              "      <td>0.0</td>\n",
              "      <td>0.0</td>\n",
              "      <td>0.0</td>\n",
              "      <td>0.0</td>\n",
              "      <td>0.0</td>\n",
              "      <td>0.0</td>\n",
              "      <td>0.0</td>\n",
              "      <td>...</td>\n",
              "      <td>0.0</td>\n",
              "      <td>0.0</td>\n",
              "      <td>0.0</td>\n",
              "      <td>0.0</td>\n",
              "      <td>0.0</td>\n",
              "      <td>0.0</td>\n",
              "      <td>1.0</td>\n",
              "      <td>0.0</td>\n",
              "      <td>0.0</td>\n",
              "      <td>0.0</td>\n",
              "    </tr>\n",
              "    <tr>\n",
              "      <th>freq</th>\n",
              "      <td>1</td>\n",
              "      <td>55874</td>\n",
              "      <td>99114</td>\n",
              "      <td>98921</td>\n",
              "      <td>86734</td>\n",
              "      <td>96112</td>\n",
              "      <td>99114</td>\n",
              "      <td>98921</td>\n",
              "      <td>67867</td>\n",
              "      <td>99454</td>\n",
              "      <td>...</td>\n",
              "      <td>91953</td>\n",
              "      <td>89126</td>\n",
              "      <td>99384</td>\n",
              "      <td>98218</td>\n",
              "      <td>95354</td>\n",
              "      <td>88079</td>\n",
              "      <td>67108</td>\n",
              "      <td>99802</td>\n",
              "      <td>98539</td>\n",
              "      <td>89360</td>\n",
              "    </tr>\n",
              "  </tbody>\n",
              "</table>\n",
              "<p>4 rows × 21 columns</p>\n",
              "</div>\n",
              "      <button class=\"colab-df-convert\" onclick=\"convertToInteractive('df-f73bbea5-44bc-439f-a91c-6401d8460b7f')\"\n",
              "              title=\"Convert this dataframe to an interactive table.\"\n",
              "              style=\"display:none;\">\n",
              "        \n",
              "  <svg xmlns=\"http://www.w3.org/2000/svg\" height=\"24px\"viewBox=\"0 0 24 24\"\n",
              "       width=\"24px\">\n",
              "    <path d=\"M0 0h24v24H0V0z\" fill=\"none\"/>\n",
              "    <path d=\"M18.56 5.44l.94 2.06.94-2.06 2.06-.94-2.06-.94-.94-2.06-.94 2.06-2.06.94zm-11 1L8.5 8.5l.94-2.06 2.06-.94-2.06-.94L8.5 2.5l-.94 2.06-2.06.94zm10 10l.94 2.06.94-2.06 2.06-.94-2.06-.94-.94-2.06-.94 2.06-2.06.94z\"/><path d=\"M17.41 7.96l-1.37-1.37c-.4-.4-.92-.59-1.43-.59-.52 0-1.04.2-1.43.59L10.3 9.45l-7.72 7.72c-.78.78-.78 2.05 0 2.83L4 21.41c.39.39.9.59 1.41.59.51 0 1.02-.2 1.41-.59l7.78-7.78 2.81-2.81c.8-.78.8-2.07 0-2.86zM5.41 20L4 18.59l7.72-7.72 1.47 1.35L5.41 20z\"/>\n",
              "  </svg>\n",
              "      </button>\n",
              "      \n",
              "  <style>\n",
              "    .colab-df-container {\n",
              "      display:flex;\n",
              "      flex-wrap:wrap;\n",
              "      gap: 12px;\n",
              "    }\n",
              "\n",
              "    .colab-df-convert {\n",
              "      background-color: #E8F0FE;\n",
              "      border: none;\n",
              "      border-radius: 50%;\n",
              "      cursor: pointer;\n",
              "      display: none;\n",
              "      fill: #1967D2;\n",
              "      height: 32px;\n",
              "      padding: 0 0 0 0;\n",
              "      width: 32px;\n",
              "    }\n",
              "\n",
              "    .colab-df-convert:hover {\n",
              "      background-color: #E2EBFA;\n",
              "      box-shadow: 0px 1px 2px rgba(60, 64, 67, 0.3), 0px 1px 3px 1px rgba(60, 64, 67, 0.15);\n",
              "      fill: #174EA6;\n",
              "    }\n",
              "\n",
              "    [theme=dark] .colab-df-convert {\n",
              "      background-color: #3B4455;\n",
              "      fill: #D2E3FC;\n",
              "    }\n",
              "\n",
              "    [theme=dark] .colab-df-convert:hover {\n",
              "      background-color: #434B5C;\n",
              "      box-shadow: 0px 1px 3px 1px rgba(0, 0, 0, 0.15);\n",
              "      filter: drop-shadow(0px 1px 2px rgba(0, 0, 0, 0.3));\n",
              "      fill: #FFFFFF;\n",
              "    }\n",
              "  </style>\n",
              "\n",
              "      <script>\n",
              "        const buttonEl =\n",
              "          document.querySelector('#df-f73bbea5-44bc-439f-a91c-6401d8460b7f button.colab-df-convert');\n",
              "        buttonEl.style.display =\n",
              "          google.colab.kernel.accessAllowed ? 'block' : 'none';\n",
              "\n",
              "        async function convertToInteractive(key) {\n",
              "          const element = document.querySelector('#df-f73bbea5-44bc-439f-a91c-6401d8460b7f');\n",
              "          const dataTable =\n",
              "            await google.colab.kernel.invokeFunction('convertToInteractive',\n",
              "                                                     [key], {});\n",
              "          if (!dataTable) return;\n",
              "\n",
              "          const docLinkHtml = 'Like what you see? Visit the ' +\n",
              "            '<a target=\"_blank\" href=https://colab.research.google.com/notebooks/data_table.ipynb>data table notebook</a>'\n",
              "            + ' to learn more about interactive tables.';\n",
              "          element.innerHTML = '';\n",
              "          dataTable['output_type'] = 'display_data';\n",
              "          await google.colab.output.renderOutput(dataTable, element);\n",
              "          const docLink = document.createElement('div');\n",
              "          docLink.innerHTML = docLinkHtml;\n",
              "          element.appendChild(docLink);\n",
              "        }\n",
              "      </script>\n",
              "    </div>\n",
              "  </div>\n",
              "  "
            ]
          },
          "metadata": {},
          "execution_count": 130
        }
      ]
    },
    {
      "cell_type": "markdown",
      "source": [
        "По краткой сводке по имеющимся данным, мы видим, что по тем столбцам, в которых булев тип данных, более 2-х уникальных значений. Похоже на выбросы. Стоит исследовать этот момент."
      ],
      "metadata": {
        "id": "lijg99azVicj"
      }
    },
    {
      "cell_type": "markdown",
      "source": [
        "Проанализируем отдельно каждую компанию."
      ],
      "metadata": {
        "id": "lX6-rbOLVk_6"
      }
    },
    {
      "cell_type": "markdown",
      "source": [
        "На первом шаге нам нужно посмотреть на корректность данных в каждом столбце, удалить выбросы, привести к нужному типу данные"
      ],
      "metadata": {
        "id": "f9OjoFxpVlnz"
      }
    },
    {
      "cell_type": "code",
      "source": [
        "def color_table(color):\n",
        "    words = [color, \"is\", \"hid\", \"has_\"+color]\n",
        "\n",
        "    return data[data.columns[data.columns.str.startswith(tuple(words))]]"
      ],
      "metadata": {
        "id": "DBHesha-Vnf3"
      },
      "execution_count": null,
      "outputs": []
    },
    {
      "cell_type": "code",
      "source": [
        "black = color_table('black')"
      ],
      "metadata": {
        "id": "MvqsInP_Vo78"
      },
      "execution_count": null,
      "outputs": []
    },
    {
      "cell_type": "code",
      "source": [
        "black.describe(include=[object])"
      ],
      "metadata": {
        "id": "lqBL8eSiVqSg",
        "colab": {
          "base_uri": "https://localhost:8080/",
          "height": 175
        },
        "outputId": "6d53f0fc-d4b0-4f96-ffce-aca5cbd533c0"
      },
      "execution_count": null,
      "outputs": [
        {
          "output_type": "execute_result",
          "data": {
            "text/plain": [
              "0                                     hid has_black_id black_gmv_order_count  \\\n",
              "count                              100000       100000                100000   \n",
              "unique                             100000            3                    39   \n",
              "top     00003c7fb5e57ce673f1801f3679f5c25          0.0                   0.0   \n",
              "freq                                    1        98921                 98921   \n",
              "\n",
              "0      black_android black_apple  is_msk black_web  \n",
              "count         100000      100000  100000    100000  \n",
              "unique             2           2       2         2  \n",
              "top              0.0         0.0     0.0       0.0  \n",
              "freq           98923       98218   88079     98539  "
            ],
            "text/html": [
              "\n",
              "  <div id=\"df-ebf389a6-7b11-4f8d-b5eb-126d90291d31\">\n",
              "    <div class=\"colab-df-container\">\n",
              "      <div>\n",
              "<style scoped>\n",
              "    .dataframe tbody tr th:only-of-type {\n",
              "        vertical-align: middle;\n",
              "    }\n",
              "\n",
              "    .dataframe tbody tr th {\n",
              "        vertical-align: top;\n",
              "    }\n",
              "\n",
              "    .dataframe thead th {\n",
              "        text-align: right;\n",
              "    }\n",
              "</style>\n",
              "<table border=\"1\" class=\"dataframe\">\n",
              "  <thead>\n",
              "    <tr style=\"text-align: right;\">\n",
              "      <th></th>\n",
              "      <th>hid</th>\n",
              "      <th>has_black_id</th>\n",
              "      <th>black_gmv_order_count</th>\n",
              "      <th>black_android</th>\n",
              "      <th>black_apple</th>\n",
              "      <th>is_msk</th>\n",
              "      <th>black_web</th>\n",
              "    </tr>\n",
              "  </thead>\n",
              "  <tbody>\n",
              "    <tr>\n",
              "      <th>count</th>\n",
              "      <td>100000</td>\n",
              "      <td>100000</td>\n",
              "      <td>100000</td>\n",
              "      <td>100000</td>\n",
              "      <td>100000</td>\n",
              "      <td>100000</td>\n",
              "      <td>100000</td>\n",
              "    </tr>\n",
              "    <tr>\n",
              "      <th>unique</th>\n",
              "      <td>100000</td>\n",
              "      <td>3</td>\n",
              "      <td>39</td>\n",
              "      <td>2</td>\n",
              "      <td>2</td>\n",
              "      <td>2</td>\n",
              "      <td>2</td>\n",
              "    </tr>\n",
              "    <tr>\n",
              "      <th>top</th>\n",
              "      <td>00003c7fb5e57ce673f1801f3679f5c25</td>\n",
              "      <td>0.0</td>\n",
              "      <td>0.0</td>\n",
              "      <td>0.0</td>\n",
              "      <td>0.0</td>\n",
              "      <td>0.0</td>\n",
              "      <td>0.0</td>\n",
              "    </tr>\n",
              "    <tr>\n",
              "      <th>freq</th>\n",
              "      <td>1</td>\n",
              "      <td>98921</td>\n",
              "      <td>98921</td>\n",
              "      <td>98923</td>\n",
              "      <td>98218</td>\n",
              "      <td>88079</td>\n",
              "      <td>98539</td>\n",
              "    </tr>\n",
              "  </tbody>\n",
              "</table>\n",
              "</div>\n",
              "      <button class=\"colab-df-convert\" onclick=\"convertToInteractive('df-ebf389a6-7b11-4f8d-b5eb-126d90291d31')\"\n",
              "              title=\"Convert this dataframe to an interactive table.\"\n",
              "              style=\"display:none;\">\n",
              "        \n",
              "  <svg xmlns=\"http://www.w3.org/2000/svg\" height=\"24px\"viewBox=\"0 0 24 24\"\n",
              "       width=\"24px\">\n",
              "    <path d=\"M0 0h24v24H0V0z\" fill=\"none\"/>\n",
              "    <path d=\"M18.56 5.44l.94 2.06.94-2.06 2.06-.94-2.06-.94-.94-2.06-.94 2.06-2.06.94zm-11 1L8.5 8.5l.94-2.06 2.06-.94-2.06-.94L8.5 2.5l-.94 2.06-2.06.94zm10 10l.94 2.06.94-2.06 2.06-.94-2.06-.94-.94-2.06-.94 2.06-2.06.94z\"/><path d=\"M17.41 7.96l-1.37-1.37c-.4-.4-.92-.59-1.43-.59-.52 0-1.04.2-1.43.59L10.3 9.45l-7.72 7.72c-.78.78-.78 2.05 0 2.83L4 21.41c.39.39.9.59 1.41.59.51 0 1.02-.2 1.41-.59l7.78-7.78 2.81-2.81c.8-.78.8-2.07 0-2.86zM5.41 20L4 18.59l7.72-7.72 1.47 1.35L5.41 20z\"/>\n",
              "  </svg>\n",
              "      </button>\n",
              "      \n",
              "  <style>\n",
              "    .colab-df-container {\n",
              "      display:flex;\n",
              "      flex-wrap:wrap;\n",
              "      gap: 12px;\n",
              "    }\n",
              "\n",
              "    .colab-df-convert {\n",
              "      background-color: #E8F0FE;\n",
              "      border: none;\n",
              "      border-radius: 50%;\n",
              "      cursor: pointer;\n",
              "      display: none;\n",
              "      fill: #1967D2;\n",
              "      height: 32px;\n",
              "      padding: 0 0 0 0;\n",
              "      width: 32px;\n",
              "    }\n",
              "\n",
              "    .colab-df-convert:hover {\n",
              "      background-color: #E2EBFA;\n",
              "      box-shadow: 0px 1px 2px rgba(60, 64, 67, 0.3), 0px 1px 3px 1px rgba(60, 64, 67, 0.15);\n",
              "      fill: #174EA6;\n",
              "    }\n",
              "\n",
              "    [theme=dark] .colab-df-convert {\n",
              "      background-color: #3B4455;\n",
              "      fill: #D2E3FC;\n",
              "    }\n",
              "\n",
              "    [theme=dark] .colab-df-convert:hover {\n",
              "      background-color: #434B5C;\n",
              "      box-shadow: 0px 1px 3px 1px rgba(0, 0, 0, 0.15);\n",
              "      filter: drop-shadow(0px 1px 2px rgba(0, 0, 0, 0.3));\n",
              "      fill: #FFFFFF;\n",
              "    }\n",
              "  </style>\n",
              "\n",
              "      <script>\n",
              "        const buttonEl =\n",
              "          document.querySelector('#df-ebf389a6-7b11-4f8d-b5eb-126d90291d31 button.colab-df-convert');\n",
              "        buttonEl.style.display =\n",
              "          google.colab.kernel.accessAllowed ? 'block' : 'none';\n",
              "\n",
              "        async function convertToInteractive(key) {\n",
              "          const element = document.querySelector('#df-ebf389a6-7b11-4f8d-b5eb-126d90291d31');\n",
              "          const dataTable =\n",
              "            await google.colab.kernel.invokeFunction('convertToInteractive',\n",
              "                                                     [key], {});\n",
              "          if (!dataTable) return;\n",
              "\n",
              "          const docLinkHtml = 'Like what you see? Visit the ' +\n",
              "            '<a target=\"_blank\" href=https://colab.research.google.com/notebooks/data_table.ipynb>data table notebook</a>'\n",
              "            + ' to learn more about interactive tables.';\n",
              "          element.innerHTML = '';\n",
              "          dataTable['output_type'] = 'display_data';\n",
              "          await google.colab.output.renderOutput(dataTable, element);\n",
              "          const docLink = document.createElement('div');\n",
              "          docLink.innerHTML = docLinkHtml;\n",
              "          element.appendChild(docLink);\n",
              "        }\n",
              "      </script>\n",
              "    </div>\n",
              "  </div>\n",
              "  "
            ]
          },
          "metadata": {},
          "execution_count": 133
        }
      ]
    },
    {
      "cell_type": "code",
      "source": [
        "black['has_black_id'].value_counts()"
      ],
      "metadata": {
        "id": "As85mSYDVtOh",
        "colab": {
          "base_uri": "https://localhost:8080/"
        },
        "outputId": "06d67c34-155b-4a95-ba09-2632636e125f"
      },
      "execution_count": null,
      "outputs": [
        {
          "output_type": "execute_result",
          "data": {
            "text/plain": [
              "0.0    98921\n",
              "1.0     1074\n",
              "2.0        5\n",
              "Name: has_black_id, dtype: int64"
            ]
          },
          "metadata": {},
          "execution_count": 134
        }
      ]
    },
    {
      "cell_type": "markdown",
      "source": [
        "Булев столбец has_black_id имеет более 2-х значений - это выбросы. Столбцы black_gvm_total и black_gvm_order_count нужно перевести в числовой формат."
      ],
      "metadata": {
        "id": "VKYhgfTuVtr0"
      }
    },
    {
      "cell_type": "markdown",
      "source": [
        "Всего 4 выброса, это малая часть, их можно удалить."
      ],
      "metadata": {
        "id": "LCKplfVOVvgP"
      }
    },
    {
      "cell_type": "code",
      "source": [
        "black = black[black['has_black_id'] != '2.0']"
      ],
      "metadata": {
        "id": "0E755SbqVx-6"
      },
      "execution_count": null,
      "outputs": []
    },
    {
      "cell_type": "markdown",
      "source": [
        "Посмотрим на уникальные значения в каждом столбце."
      ],
      "metadata": {
        "id": "X_bcYWpXV0_B"
      }
    },
    {
      "cell_type": "code",
      "source": [
        "for col in black:\n",
        "        print(f\"столбец: {col}, уник знач: {data[col].value_counts()}\")"
      ],
      "metadata": {
        "id": "BWAFqTMSV1qD",
        "colab": {
          "base_uri": "https://localhost:8080/"
        },
        "outputId": "1a10db3d-5358-43bc-f6c3-afd3d401aaa1"
      },
      "execution_count": null,
      "outputs": [
        {
          "output_type": "stream",
          "name": "stdout",
          "text": [
            "столбец: hid, уник знач: 00003c7fb5e57ce673f1801f3679f5c25       1\n",
            "1853b8b252556b5cd7f579b25e3333b3e725    1\n",
            "1855d151e11c7bd83e53be8530e05f25c       1\n",
            "1855be7b7ffb253eb3ccd38e7569f08fb       1\n",
            "1855739b5fe07fbbe363f70db325b3b33       1\n",
            "                                       ..\n",
            "0c3705ec105f3d6f3168bd5689b8bb37        1\n",
            "0c36dfbc938fb698725193bbfd325707b0      1\n",
            "0c36b39fb3d6ecc96c6f3337985d03256       1\n",
            "0c36b576dd9cee36c8b9363830b25ceb3       1\n",
            "325566ec18c0db59083f5f6bb1b5f93d5       1\n",
            "Name: hid, Length: 100000, dtype: int64\n",
            "столбец: has_black_id, уник знач: 0.0    98921\n",
            "1.0     1074\n",
            "2.0        5\n",
            "Name: has_black_id, dtype: int64\n",
            "столбец: black_gmv_total, уник знач: 0.0        98921\n",
            "1700.0         8\n",
            "1598.0         7\n",
            "1300.0         5\n",
            "2460.0         5\n",
            "           ...  \n",
            "8758.0         1\n",
            "13800.0        1\n",
            "12646.0        1\n",
            "2400.0         1\n",
            "2008.0         1\n",
            "Name: black_gmv_total, Length: 913, dtype: int64\n",
            "столбец: black_gmv_order_count, уник знач: 0.0                    98921\n",
            "1.0                      445\n",
            "2.0                      185\n",
            "3.0                      116\n",
            "4.0                       80\n",
            "5.0                       44\n",
            "6.0                       33\n",
            "8.0                       29\n",
            "7.0                       21\n",
            "10.0                      19\n",
            "9.0                       16\n",
            "12.0                      13\n",
            "15.0                       8\n",
            "11.0                       8\n",
            "14.0                       6\n",
            "18.0                       5\n",
            "26.0                       5\n",
            "19.0                       4\n",
            "22.0                       4\n",
            "13.0                       4\n",
            "25.0                       4\n",
            "20.0                       4\n",
            "17.0                       3\n",
            "16.0                       3\n",
            "21.0                       2\n",
            "2019-05-02 00:00:00        2\n",
            "35.0                       2\n",
            "51.0                       2\n",
            "23.0                       2\n",
            "50.0                       1\n",
            "37.0                       1\n",
            "33.0                       1\n",
            "27.0                       1\n",
            "29.0                       1\n",
            "42.0                       1\n",
            "60.0                       1\n",
            "34.0                       1\n",
            "36.0                       1\n",
            "2019-05-06 00:00:00        1\n",
            "Name: black_gmv_order_count, dtype: int64\n",
            "столбец: black_android, уник знач: 0.0    98923\n",
            "1.0     1077\n",
            "Name: black_android, dtype: int64\n",
            "столбец: black_apple, уник знач: 0.0    98218\n",
            "1.0     1782\n",
            "Name: black_apple, dtype: int64\n",
            "столбец: is_msk, уник знач: 0.0    88079\n",
            "1.0    11921\n",
            "Name: is_msk, dtype: int64\n",
            "столбец: black_web, уник знач: 0.0    98539\n",
            "1.0     1461\n",
            "Name: black_web, dtype: int64\n"
          ]
        }
      ]
    },
    {
      "cell_type": "markdown",
      "source": [
        "В данных о кол-ве успешных заказов мы видим даты. Это явные выбросы. Удалим их."
      ],
      "metadata": {
        "id": "iBEd7QwnV4mn"
      }
    },
    {
      "cell_type": "code",
      "source": [
        "for x in black['black_gmv_order_count']:\n",
        "    if '-' in x:\n",
        "        black = black[black.black_gmv_order_count != x]"
      ],
      "metadata": {
        "id": "bnuswNfOV6eH"
      },
      "execution_count": null,
      "outputs": []
    },
    {
      "cell_type": "code",
      "source": [
        "black.black_gmv_order_count = black.black_gmv_order_count.astype(float)\n",
        "black.black_gmv_total = black.black_gmv_total.astype(float)"
      ],
      "metadata": {
        "id": "Vf42tmBvV8KW"
      },
      "execution_count": null,
      "outputs": []
    },
    {
      "cell_type": "markdown",
      "source": [
        "Посмотрим на данные компании Red."
      ],
      "metadata": {
        "id": "e6TtztCUV_UH"
      }
    },
    {
      "cell_type": "code",
      "source": [
        "red = color_table(\"red\")"
      ],
      "metadata": {
        "id": "QLHN8aa1WA_E"
      },
      "execution_count": null,
      "outputs": []
    },
    {
      "cell_type": "code",
      "source": [
        "red.describe()"
      ],
      "metadata": {
        "id": "wgKC0IimWCjm",
        "colab": {
          "base_uri": "https://localhost:8080/",
          "height": 175
        },
        "outputId": "97a10bc8-0a64-4046-aa24-1242bfc8662f"
      },
      "execution_count": null,
      "outputs": [
        {
          "output_type": "execute_result",
          "data": {
            "text/plain": [
              "0                                     hid red_activity_count red_android  \\\n",
              "count                              100000             100000      100000   \n",
              "unique                             100000                  2           2   \n",
              "top     00003c7fb5e57ce673f1801f3679f5c25                1.0         0.0   \n",
              "freq                                    1              55874       67867   \n",
              "\n",
              "0      red_apple  is_msk red_web  \n",
              "count     100000  100000  100000  \n",
              "unique         2       2       2  \n",
              "top          0.0     0.0     1.0  \n",
              "freq       89126   88079   67108  "
            ],
            "text/html": [
              "\n",
              "  <div id=\"df-a6269127-33bf-4868-b809-e731bfe20e46\">\n",
              "    <div class=\"colab-df-container\">\n",
              "      <div>\n",
              "<style scoped>\n",
              "    .dataframe tbody tr th:only-of-type {\n",
              "        vertical-align: middle;\n",
              "    }\n",
              "\n",
              "    .dataframe tbody tr th {\n",
              "        vertical-align: top;\n",
              "    }\n",
              "\n",
              "    .dataframe thead th {\n",
              "        text-align: right;\n",
              "    }\n",
              "</style>\n",
              "<table border=\"1\" class=\"dataframe\">\n",
              "  <thead>\n",
              "    <tr style=\"text-align: right;\">\n",
              "      <th></th>\n",
              "      <th>hid</th>\n",
              "      <th>red_activity_count</th>\n",
              "      <th>red_android</th>\n",
              "      <th>red_apple</th>\n",
              "      <th>is_msk</th>\n",
              "      <th>red_web</th>\n",
              "    </tr>\n",
              "  </thead>\n",
              "  <tbody>\n",
              "    <tr>\n",
              "      <th>count</th>\n",
              "      <td>100000</td>\n",
              "      <td>100000</td>\n",
              "      <td>100000</td>\n",
              "      <td>100000</td>\n",
              "      <td>100000</td>\n",
              "      <td>100000</td>\n",
              "    </tr>\n",
              "    <tr>\n",
              "      <th>unique</th>\n",
              "      <td>100000</td>\n",
              "      <td>2</td>\n",
              "      <td>2</td>\n",
              "      <td>2</td>\n",
              "      <td>2</td>\n",
              "      <td>2</td>\n",
              "    </tr>\n",
              "    <tr>\n",
              "      <th>top</th>\n",
              "      <td>00003c7fb5e57ce673f1801f3679f5c25</td>\n",
              "      <td>1.0</td>\n",
              "      <td>0.0</td>\n",
              "      <td>0.0</td>\n",
              "      <td>0.0</td>\n",
              "      <td>1.0</td>\n",
              "    </tr>\n",
              "    <tr>\n",
              "      <th>freq</th>\n",
              "      <td>1</td>\n",
              "      <td>55874</td>\n",
              "      <td>67867</td>\n",
              "      <td>89126</td>\n",
              "      <td>88079</td>\n",
              "      <td>67108</td>\n",
              "    </tr>\n",
              "  </tbody>\n",
              "</table>\n",
              "</div>\n",
              "      <button class=\"colab-df-convert\" onclick=\"convertToInteractive('df-a6269127-33bf-4868-b809-e731bfe20e46')\"\n",
              "              title=\"Convert this dataframe to an interactive table.\"\n",
              "              style=\"display:none;\">\n",
              "        \n",
              "  <svg xmlns=\"http://www.w3.org/2000/svg\" height=\"24px\"viewBox=\"0 0 24 24\"\n",
              "       width=\"24px\">\n",
              "    <path d=\"M0 0h24v24H0V0z\" fill=\"none\"/>\n",
              "    <path d=\"M18.56 5.44l.94 2.06.94-2.06 2.06-.94-2.06-.94-.94-2.06-.94 2.06-2.06.94zm-11 1L8.5 8.5l.94-2.06 2.06-.94-2.06-.94L8.5 2.5l-.94 2.06-2.06.94zm10 10l.94 2.06.94-2.06 2.06-.94-2.06-.94-.94-2.06-.94 2.06-2.06.94z\"/><path d=\"M17.41 7.96l-1.37-1.37c-.4-.4-.92-.59-1.43-.59-.52 0-1.04.2-1.43.59L10.3 9.45l-7.72 7.72c-.78.78-.78 2.05 0 2.83L4 21.41c.39.39.9.59 1.41.59.51 0 1.02-.2 1.41-.59l7.78-7.78 2.81-2.81c.8-.78.8-2.07 0-2.86zM5.41 20L4 18.59l7.72-7.72 1.47 1.35L5.41 20z\"/>\n",
              "  </svg>\n",
              "      </button>\n",
              "      \n",
              "  <style>\n",
              "    .colab-df-container {\n",
              "      display:flex;\n",
              "      flex-wrap:wrap;\n",
              "      gap: 12px;\n",
              "    }\n",
              "\n",
              "    .colab-df-convert {\n",
              "      background-color: #E8F0FE;\n",
              "      border: none;\n",
              "      border-radius: 50%;\n",
              "      cursor: pointer;\n",
              "      display: none;\n",
              "      fill: #1967D2;\n",
              "      height: 32px;\n",
              "      padding: 0 0 0 0;\n",
              "      width: 32px;\n",
              "    }\n",
              "\n",
              "    .colab-df-convert:hover {\n",
              "      background-color: #E2EBFA;\n",
              "      box-shadow: 0px 1px 2px rgba(60, 64, 67, 0.3), 0px 1px 3px 1px rgba(60, 64, 67, 0.15);\n",
              "      fill: #174EA6;\n",
              "    }\n",
              "\n",
              "    [theme=dark] .colab-df-convert {\n",
              "      background-color: #3B4455;\n",
              "      fill: #D2E3FC;\n",
              "    }\n",
              "\n",
              "    [theme=dark] .colab-df-convert:hover {\n",
              "      background-color: #434B5C;\n",
              "      box-shadow: 0px 1px 3px 1px rgba(0, 0, 0, 0.15);\n",
              "      filter: drop-shadow(0px 1px 2px rgba(0, 0, 0, 0.3));\n",
              "      fill: #FFFFFF;\n",
              "    }\n",
              "  </style>\n",
              "\n",
              "      <script>\n",
              "        const buttonEl =\n",
              "          document.querySelector('#df-a6269127-33bf-4868-b809-e731bfe20e46 button.colab-df-convert');\n",
              "        buttonEl.style.display =\n",
              "          google.colab.kernel.accessAllowed ? 'block' : 'none';\n",
              "\n",
              "        async function convertToInteractive(key) {\n",
              "          const element = document.querySelector('#df-a6269127-33bf-4868-b809-e731bfe20e46');\n",
              "          const dataTable =\n",
              "            await google.colab.kernel.invokeFunction('convertToInteractive',\n",
              "                                                     [key], {});\n",
              "          if (!dataTable) return;\n",
              "\n",
              "          const docLinkHtml = 'Like what you see? Visit the ' +\n",
              "            '<a target=\"_blank\" href=https://colab.research.google.com/notebooks/data_table.ipynb>data table notebook</a>'\n",
              "            + ' to learn more about interactive tables.';\n",
              "          element.innerHTML = '';\n",
              "          dataTable['output_type'] = 'display_data';\n",
              "          await google.colab.output.renderOutput(dataTable, element);\n",
              "          const docLink = document.createElement('div');\n",
              "          docLink.innerHTML = docLinkHtml;\n",
              "          element.appendChild(docLink);\n",
              "        }\n",
              "      </script>\n",
              "    </div>\n",
              "  </div>\n",
              "  "
            ]
          },
          "metadata": {},
          "execution_count": 140
        }
      ]
    },
    {
      "cell_type": "markdown",
      "source": [
        "Выполним следующий код, чтобы избежать warnings при несоответствии версий."
      ],
      "metadata": {
        "id": "4gVxd8InWHNB"
      }
    },
    {
      "cell_type": "code",
      "source": [
        "import warnings\n",
        "warnings.filterwarnings('ignore')"
      ],
      "metadata": {
        "id": "NafteuUpWJKD"
      },
      "execution_count": null,
      "outputs": []
    },
    {
      "cell_type": "code",
      "source": [
        "red.red_activity_count = red.red_activity_count.astype(float)"
      ],
      "metadata": {
        "id": "OLL3dVvgWLrf"
      },
      "execution_count": null,
      "outputs": []
    },
    {
      "cell_type": "markdown",
      "source": [
        "Здесь выбросов нет."
      ],
      "metadata": {
        "id": "QhhYDee8WOkL"
      }
    },
    {
      "cell_type": "code",
      "source": [
        "blue =  color_table(\"blue\")"
      ],
      "metadata": {
        "id": "SjLXoX6XWPKR"
      },
      "execution_count": null,
      "outputs": []
    },
    {
      "cell_type": "code",
      "source": [
        "blue.describe(include=[object])"
      ],
      "metadata": {
        "id": "aNMUPjp_WQtS",
        "colab": {
          "base_uri": "https://localhost:8080/",
          "height": 175
        },
        "outputId": "a6fdae87-3ffd-4981-fe51-559512c761c9"
      },
      "execution_count": null,
      "outputs": [
        {
          "output_type": "execute_result",
          "data": {
            "text/plain": [
              "0                                     hid has_blue_id blue_activity_count  \\\n",
              "count                              100000      100000              100000   \n",
              "unique                             100000           5                  69   \n",
              "top     00003c7fb5e57ce673f1801f3679f5c25         0.0                 0.0   \n",
              "freq                                    1       86734               96112   \n",
              "\n",
              "0      blue_android blue_apple  is_msk blue_web  \n",
              "count        100000     100000  100000   100000  \n",
              "unique            2          2       2        2  \n",
              "top             0.0        0.0     0.0      0.0  \n",
              "freq          91953      95354   88079    89360  "
            ],
            "text/html": [
              "\n",
              "  <div id=\"df-9a593dd6-04d1-4af2-8ae4-cca137d9ff1c\">\n",
              "    <div class=\"colab-df-container\">\n",
              "      <div>\n",
              "<style scoped>\n",
              "    .dataframe tbody tr th:only-of-type {\n",
              "        vertical-align: middle;\n",
              "    }\n",
              "\n",
              "    .dataframe tbody tr th {\n",
              "        vertical-align: top;\n",
              "    }\n",
              "\n",
              "    .dataframe thead th {\n",
              "        text-align: right;\n",
              "    }\n",
              "</style>\n",
              "<table border=\"1\" class=\"dataframe\">\n",
              "  <thead>\n",
              "    <tr style=\"text-align: right;\">\n",
              "      <th></th>\n",
              "      <th>hid</th>\n",
              "      <th>has_blue_id</th>\n",
              "      <th>blue_activity_count</th>\n",
              "      <th>blue_android</th>\n",
              "      <th>blue_apple</th>\n",
              "      <th>is_msk</th>\n",
              "      <th>blue_web</th>\n",
              "    </tr>\n",
              "  </thead>\n",
              "  <tbody>\n",
              "    <tr>\n",
              "      <th>count</th>\n",
              "      <td>100000</td>\n",
              "      <td>100000</td>\n",
              "      <td>100000</td>\n",
              "      <td>100000</td>\n",
              "      <td>100000</td>\n",
              "      <td>100000</td>\n",
              "      <td>100000</td>\n",
              "    </tr>\n",
              "    <tr>\n",
              "      <th>unique</th>\n",
              "      <td>100000</td>\n",
              "      <td>5</td>\n",
              "      <td>69</td>\n",
              "      <td>2</td>\n",
              "      <td>2</td>\n",
              "      <td>2</td>\n",
              "      <td>2</td>\n",
              "    </tr>\n",
              "    <tr>\n",
              "      <th>top</th>\n",
              "      <td>00003c7fb5e57ce673f1801f3679f5c25</td>\n",
              "      <td>0.0</td>\n",
              "      <td>0.0</td>\n",
              "      <td>0.0</td>\n",
              "      <td>0.0</td>\n",
              "      <td>0.0</td>\n",
              "      <td>0.0</td>\n",
              "    </tr>\n",
              "    <tr>\n",
              "      <th>freq</th>\n",
              "      <td>1</td>\n",
              "      <td>86734</td>\n",
              "      <td>96112</td>\n",
              "      <td>91953</td>\n",
              "      <td>95354</td>\n",
              "      <td>88079</td>\n",
              "      <td>89360</td>\n",
              "    </tr>\n",
              "  </tbody>\n",
              "</table>\n",
              "</div>\n",
              "      <button class=\"colab-df-convert\" onclick=\"convertToInteractive('df-9a593dd6-04d1-4af2-8ae4-cca137d9ff1c')\"\n",
              "              title=\"Convert this dataframe to an interactive table.\"\n",
              "              style=\"display:none;\">\n",
              "        \n",
              "  <svg xmlns=\"http://www.w3.org/2000/svg\" height=\"24px\"viewBox=\"0 0 24 24\"\n",
              "       width=\"24px\">\n",
              "    <path d=\"M0 0h24v24H0V0z\" fill=\"none\"/>\n",
              "    <path d=\"M18.56 5.44l.94 2.06.94-2.06 2.06-.94-2.06-.94-.94-2.06-.94 2.06-2.06.94zm-11 1L8.5 8.5l.94-2.06 2.06-.94-2.06-.94L8.5 2.5l-.94 2.06-2.06.94zm10 10l.94 2.06.94-2.06 2.06-.94-2.06-.94-.94-2.06-.94 2.06-2.06.94z\"/><path d=\"M17.41 7.96l-1.37-1.37c-.4-.4-.92-.59-1.43-.59-.52 0-1.04.2-1.43.59L10.3 9.45l-7.72 7.72c-.78.78-.78 2.05 0 2.83L4 21.41c.39.39.9.59 1.41.59.51 0 1.02-.2 1.41-.59l7.78-7.78 2.81-2.81c.8-.78.8-2.07 0-2.86zM5.41 20L4 18.59l7.72-7.72 1.47 1.35L5.41 20z\"/>\n",
              "  </svg>\n",
              "      </button>\n",
              "      \n",
              "  <style>\n",
              "    .colab-df-container {\n",
              "      display:flex;\n",
              "      flex-wrap:wrap;\n",
              "      gap: 12px;\n",
              "    }\n",
              "\n",
              "    .colab-df-convert {\n",
              "      background-color: #E8F0FE;\n",
              "      border: none;\n",
              "      border-radius: 50%;\n",
              "      cursor: pointer;\n",
              "      display: none;\n",
              "      fill: #1967D2;\n",
              "      height: 32px;\n",
              "      padding: 0 0 0 0;\n",
              "      width: 32px;\n",
              "    }\n",
              "\n",
              "    .colab-df-convert:hover {\n",
              "      background-color: #E2EBFA;\n",
              "      box-shadow: 0px 1px 2px rgba(60, 64, 67, 0.3), 0px 1px 3px 1px rgba(60, 64, 67, 0.15);\n",
              "      fill: #174EA6;\n",
              "    }\n",
              "\n",
              "    [theme=dark] .colab-df-convert {\n",
              "      background-color: #3B4455;\n",
              "      fill: #D2E3FC;\n",
              "    }\n",
              "\n",
              "    [theme=dark] .colab-df-convert:hover {\n",
              "      background-color: #434B5C;\n",
              "      box-shadow: 0px 1px 3px 1px rgba(0, 0, 0, 0.15);\n",
              "      filter: drop-shadow(0px 1px 2px rgba(0, 0, 0, 0.3));\n",
              "      fill: #FFFFFF;\n",
              "    }\n",
              "  </style>\n",
              "\n",
              "      <script>\n",
              "        const buttonEl =\n",
              "          document.querySelector('#df-9a593dd6-04d1-4af2-8ae4-cca137d9ff1c button.colab-df-convert');\n",
              "        buttonEl.style.display =\n",
              "          google.colab.kernel.accessAllowed ? 'block' : 'none';\n",
              "\n",
              "        async function convertToInteractive(key) {\n",
              "          const element = document.querySelector('#df-9a593dd6-04d1-4af2-8ae4-cca137d9ff1c');\n",
              "          const dataTable =\n",
              "            await google.colab.kernel.invokeFunction('convertToInteractive',\n",
              "                                                     [key], {});\n",
              "          if (!dataTable) return;\n",
              "\n",
              "          const docLinkHtml = 'Like what you see? Visit the ' +\n",
              "            '<a target=\"_blank\" href=https://colab.research.google.com/notebooks/data_table.ipynb>data table notebook</a>'\n",
              "            + ' to learn more about interactive tables.';\n",
              "          element.innerHTML = '';\n",
              "          dataTable['output_type'] = 'display_data';\n",
              "          await google.colab.output.renderOutput(dataTable, element);\n",
              "          const docLink = document.createElement('div');\n",
              "          docLink.innerHTML = docLinkHtml;\n",
              "          element.appendChild(docLink);\n",
              "        }\n",
              "      </script>\n",
              "    </div>\n",
              "  </div>\n",
              "  "
            ]
          },
          "metadata": {},
          "execution_count": 144
        }
      ]
    },
    {
      "cell_type": "markdown",
      "source": [
        "Посмотрим на данные более подробно. Видим, что в столбце has_blue_id с булевым типом 5 уникальных значений."
      ],
      "metadata": {
        "id": "4R9VYoC8WTc0"
      }
    },
    {
      "cell_type": "code",
      "source": [
        "data.has_blue_id.value_counts()"
      ],
      "metadata": {
        "id": "RHAs91e4WUId",
        "colab": {
          "base_uri": "https://localhost:8080/"
        },
        "outputId": "f8625b6e-aa54-4f05-e220-55cd6ad1c7b6"
      },
      "execution_count": null,
      "outputs": [
        {
          "output_type": "execute_result",
          "data": {
            "text/plain": [
              "0.0    86734\n",
              "1.0    12749\n",
              "2.0      501\n",
              "3.0       14\n",
              "4.0        2\n",
              "Name: has_blue_id, dtype: int64"
            ]
          },
          "metadata": {},
          "execution_count": 145
        }
      ]
    },
    {
      "cell_type": "code",
      "source": [
        "data[(data.has_blue_id != 0.0)&(data.has_blue_id != 1.0)].shape[0]/data.has_blue_id.shape[0]*100"
      ],
      "metadata": {
        "id": "iOEbed1UWXn7",
        "colab": {
          "base_uri": "https://localhost:8080/"
        },
        "outputId": "e94adc22-1e0d-4e8c-bb2c-7b121768902c"
      },
      "execution_count": null,
      "outputs": [
        {
          "output_type": "execute_result",
          "data": {
            "text/plain": [
              "100.0"
            ]
          },
          "metadata": {},
          "execution_count": 146
        }
      ]
    },
    {
      "cell_type": "markdown",
      "source": [
        "Выбросы составляют около половины процента - удаляем их."
      ],
      "metadata": {
        "id": "mX9TEUxyWYNL"
      }
    },
    {
      "cell_type": "code",
      "source": [
        "blue.has_blue_id = blue.has_blue_id.astype(float)"
      ],
      "metadata": {
        "id": "1uj2stzVWZ2F"
      },
      "execution_count": null,
      "outputs": []
    },
    {
      "cell_type": "code",
      "source": [
        "blue = blue[blue.has_blue_id < 2.0]"
      ],
      "metadata": {
        "id": "sKIjhc8AWbnb"
      },
      "execution_count": null,
      "outputs": []
    },
    {
      "cell_type": "code",
      "source": [
        "blue.blue_activity_count.unique()"
      ],
      "metadata": {
        "id": "yRCVj98cWc6F",
        "colab": {
          "base_uri": "https://localhost:8080/"
        },
        "outputId": "28d24477-45f6-4eda-c43d-740f072e70f6"
      },
      "execution_count": null,
      "outputs": [
        {
          "output_type": "execute_result",
          "data": {
            "text/plain": [
              "array(['2.0', '0.0', '1.0', '17.0', '13.0', '5.0', '6.0', '26.0', '8.0',\n",
              "       '27.0', '19.0', '9.0', '4.0', '3.0', '20.0', '10.0', '12.0',\n",
              "       '23.0', '7.0', '14.0', '15.0', '16.0', '53.0', '32.0', '11.0',\n",
              "       '18.0', '24.0', '119.0', '49.0', '39.0', '21.0', '35.0', '72.0',\n",
              "       '30.0', '71.0', '28.0', '42.0', '34.0', '29.0', '90.0', '43.0',\n",
              "       '51.0', '44.0', '36.0', '41.0', '22.0', '40.0', '45.0', '31.0',\n",
              "       '67.0', '33.0', '25.0', '101.0', '74.0', '46.0', '111.0', '66.0',\n",
              "       '38.0', '63.0', '100.0', '237.0', '59.0', '37.0', '47.0'],\n",
              "      dtype=object)"
            ]
          },
          "metadata": {},
          "execution_count": 149
        }
      ]
    },
    {
      "cell_type": "markdown",
      "source": [
        "Удалим даты."
      ],
      "metadata": {
        "id": "G7VEeGfjWeSJ"
      }
    },
    {
      "cell_type": "code",
      "source": [
        "blue['blue_activity_count'] = pd.to_numeric(blue['blue_activity_count'], errors='coerce')"
      ],
      "metadata": {
        "id": "8GbVJ2QfWgVy"
      },
      "execution_count": null,
      "outputs": []
    },
    {
      "cell_type": "code",
      "source": [
        "for x in blue['blue_activity_count']:\n",
        "    if len(str(x))>10:\n",
        "        blue = blue[black.blue_activity_count != x]"
      ],
      "metadata": {
        "id": "Rcj4p6nUWiWz"
      },
      "execution_count": null,
      "outputs": []
    },
    {
      "cell_type": "code",
      "source": [
        "blue = blue[blue['blue_activity_count'].notna()]"
      ],
      "metadata": {
        "id": "n-CavnDlWlCU"
      },
      "execution_count": null,
      "outputs": []
    },
    {
      "cell_type": "code",
      "source": [
        "blue['blue_activity_count'].unique()"
      ],
      "metadata": {
        "id": "oqo2cD6XWmZd",
        "colab": {
          "base_uri": "https://localhost:8080/"
        },
        "outputId": "f5b321f7-44b7-45e6-fe76-a3bdc1627900"
      },
      "execution_count": null,
      "outputs": [
        {
          "output_type": "execute_result",
          "data": {
            "text/plain": [
              "array([  2.,   0.,   1.,  17.,  13.,   5.,   6.,  26.,   8.,  27.,  19.,\n",
              "         9.,   4.,   3.,  20.,  10.,  12.,  23.,   7.,  14.,  15.,  16.,\n",
              "        53.,  32.,  11.,  18.,  24., 119.,  49.,  39.,  21.,  35.,  72.,\n",
              "        30.,  71.,  28.,  42.,  34.,  29.,  90.,  43.,  51.,  44.,  36.,\n",
              "        41.,  22.,  40.,  45.,  31.,  67.,  33.,  25., 101.,  74.,  46.,\n",
              "       111.,  66.,  38.,  63., 100., 237.,  59.,  37.,  47.])"
            ]
          },
          "metadata": {},
          "execution_count": 153
        }
      ]
    },
    {
      "cell_type": "code",
      "source": [
        "blue.blue_gmv_total = blue.blue_gmv_total.astype(float)\n",
        "blue.blue_activity_count = blue.blue_activity_count.astype(float)"
      ],
      "metadata": {
        "id": "osfWpnSgWn3v"
      },
      "execution_count": null,
      "outputs": []
    },
    {
      "cell_type": "code",
      "source": [
        "green =  color_table(\"green\")"
      ],
      "metadata": {
        "id": "CGJVZrRWWqp2"
      },
      "execution_count": null,
      "outputs": []
    },
    {
      "cell_type": "code",
      "source": [
        "green"
      ],
      "metadata": {
        "id": "9HYnmxORWsRo",
        "colab": {
          "base_uri": "https://localhost:8080/",
          "height": 423
        },
        "outputId": "c2b465ca-dabb-4be6-c1b1-cdab0e7eab66"
      },
      "execution_count": null,
      "outputs": [
        {
          "output_type": "execute_result",
          "data": {
            "text/plain": [
              "0                                        hid has_green_id  green_gmv_total  \\\n",
              "1          00003c7fb5e57ce673f1801f3679f5c25          0.0              0.0   \n",
              "2          00006b602533083e3bebfcbff08613931          0.0              0.0   \n",
              "3           0000736c3f76339196cb1cc759b8363b          0.0              0.0   \n",
              "4           00009bdcc5307b38efde8690b8bd658e          0.0              0.0   \n",
              "5          0000bc3186b7b31d9b35d3fbbb250b9f8          0.0              0.0   \n",
              "...                                      ...          ...              ...   \n",
              "99996   32555ec33d762588db3253b063525f03b58f          0.0              0.0   \n",
              "99997   3255600b525b2598b37775fb3b25b3397bbb          0.0              0.0   \n",
              "99998      325563dbbb35c393be38c5c79373ed180          0.0              0.0   \n",
              "99999    3255650825570bcc93bc9b076b0bfbb25e6          0.0              0.0   \n",
              "100000     325566ec18c0db59083f5f6bb1b5f93d5          0.0              0.0   \n",
              "\n",
              "0      green_gvm_order_count green_android green_apple is_msk green_web  \n",
              "1                        0.0           0.0         0.0    0.0       0.0  \n",
              "2                        0.0           0.0         0.0    0.0       0.0  \n",
              "3                        0.0           0.0         0.0    0.0       0.0  \n",
              "4                        0.0           0.0         0.0    0.0       0.0  \n",
              "5                        0.0           0.0         0.0    0.0       0.0  \n",
              "...                      ...           ...         ...    ...       ...  \n",
              "99996                    0.0           0.0         0.0    1.0       0.0  \n",
              "99997                    0.0           0.0         0.0    0.0       0.0  \n",
              "99998                    0.0           0.0         0.0    0.0       0.0  \n",
              "99999                    0.0           0.0         0.0    0.0       0.0  \n",
              "100000                   0.0           0.0         0.0    0.0       0.0  \n",
              "\n",
              "[100000 rows x 8 columns]"
            ],
            "text/html": [
              "\n",
              "  <div id=\"df-bca0c2b0-41f4-4585-a00f-f94f852bb245\">\n",
              "    <div class=\"colab-df-container\">\n",
              "      <div>\n",
              "<style scoped>\n",
              "    .dataframe tbody tr th:only-of-type {\n",
              "        vertical-align: middle;\n",
              "    }\n",
              "\n",
              "    .dataframe tbody tr th {\n",
              "        vertical-align: top;\n",
              "    }\n",
              "\n",
              "    .dataframe thead th {\n",
              "        text-align: right;\n",
              "    }\n",
              "</style>\n",
              "<table border=\"1\" class=\"dataframe\">\n",
              "  <thead>\n",
              "    <tr style=\"text-align: right;\">\n",
              "      <th></th>\n",
              "      <th>hid</th>\n",
              "      <th>has_green_id</th>\n",
              "      <th>green_gmv_total</th>\n",
              "      <th>green_gvm_order_count</th>\n",
              "      <th>green_android</th>\n",
              "      <th>green_apple</th>\n",
              "      <th>is_msk</th>\n",
              "      <th>green_web</th>\n",
              "    </tr>\n",
              "  </thead>\n",
              "  <tbody>\n",
              "    <tr>\n",
              "      <th>1</th>\n",
              "      <td>00003c7fb5e57ce673f1801f3679f5c25</td>\n",
              "      <td>0.0</td>\n",
              "      <td>0.0</td>\n",
              "      <td>0.0</td>\n",
              "      <td>0.0</td>\n",
              "      <td>0.0</td>\n",
              "      <td>0.0</td>\n",
              "      <td>0.0</td>\n",
              "    </tr>\n",
              "    <tr>\n",
              "      <th>2</th>\n",
              "      <td>00006b602533083e3bebfcbff08613931</td>\n",
              "      <td>0.0</td>\n",
              "      <td>0.0</td>\n",
              "      <td>0.0</td>\n",
              "      <td>0.0</td>\n",
              "      <td>0.0</td>\n",
              "      <td>0.0</td>\n",
              "      <td>0.0</td>\n",
              "    </tr>\n",
              "    <tr>\n",
              "      <th>3</th>\n",
              "      <td>0000736c3f76339196cb1cc759b8363b</td>\n",
              "      <td>0.0</td>\n",
              "      <td>0.0</td>\n",
              "      <td>0.0</td>\n",
              "      <td>0.0</td>\n",
              "      <td>0.0</td>\n",
              "      <td>0.0</td>\n",
              "      <td>0.0</td>\n",
              "    </tr>\n",
              "    <tr>\n",
              "      <th>4</th>\n",
              "      <td>00009bdcc5307b38efde8690b8bd658e</td>\n",
              "      <td>0.0</td>\n",
              "      <td>0.0</td>\n",
              "      <td>0.0</td>\n",
              "      <td>0.0</td>\n",
              "      <td>0.0</td>\n",
              "      <td>0.0</td>\n",
              "      <td>0.0</td>\n",
              "    </tr>\n",
              "    <tr>\n",
              "      <th>5</th>\n",
              "      <td>0000bc3186b7b31d9b35d3fbbb250b9f8</td>\n",
              "      <td>0.0</td>\n",
              "      <td>0.0</td>\n",
              "      <td>0.0</td>\n",
              "      <td>0.0</td>\n",
              "      <td>0.0</td>\n",
              "      <td>0.0</td>\n",
              "      <td>0.0</td>\n",
              "    </tr>\n",
              "    <tr>\n",
              "      <th>...</th>\n",
              "      <td>...</td>\n",
              "      <td>...</td>\n",
              "      <td>...</td>\n",
              "      <td>...</td>\n",
              "      <td>...</td>\n",
              "      <td>...</td>\n",
              "      <td>...</td>\n",
              "      <td>...</td>\n",
              "    </tr>\n",
              "    <tr>\n",
              "      <th>99996</th>\n",
              "      <td>32555ec33d762588db3253b063525f03b58f</td>\n",
              "      <td>0.0</td>\n",
              "      <td>0.0</td>\n",
              "      <td>0.0</td>\n",
              "      <td>0.0</td>\n",
              "      <td>0.0</td>\n",
              "      <td>1.0</td>\n",
              "      <td>0.0</td>\n",
              "    </tr>\n",
              "    <tr>\n",
              "      <th>99997</th>\n",
              "      <td>3255600b525b2598b37775fb3b25b3397bbb</td>\n",
              "      <td>0.0</td>\n",
              "      <td>0.0</td>\n",
              "      <td>0.0</td>\n",
              "      <td>0.0</td>\n",
              "      <td>0.0</td>\n",
              "      <td>0.0</td>\n",
              "      <td>0.0</td>\n",
              "    </tr>\n",
              "    <tr>\n",
              "      <th>99998</th>\n",
              "      <td>325563dbbb35c393be38c5c79373ed180</td>\n",
              "      <td>0.0</td>\n",
              "      <td>0.0</td>\n",
              "      <td>0.0</td>\n",
              "      <td>0.0</td>\n",
              "      <td>0.0</td>\n",
              "      <td>0.0</td>\n",
              "      <td>0.0</td>\n",
              "    </tr>\n",
              "    <tr>\n",
              "      <th>99999</th>\n",
              "      <td>3255650825570bcc93bc9b076b0bfbb25e6</td>\n",
              "      <td>0.0</td>\n",
              "      <td>0.0</td>\n",
              "      <td>0.0</td>\n",
              "      <td>0.0</td>\n",
              "      <td>0.0</td>\n",
              "      <td>0.0</td>\n",
              "      <td>0.0</td>\n",
              "    </tr>\n",
              "    <tr>\n",
              "      <th>100000</th>\n",
              "      <td>325566ec18c0db59083f5f6bb1b5f93d5</td>\n",
              "      <td>0.0</td>\n",
              "      <td>0.0</td>\n",
              "      <td>0.0</td>\n",
              "      <td>0.0</td>\n",
              "      <td>0.0</td>\n",
              "      <td>0.0</td>\n",
              "      <td>0.0</td>\n",
              "    </tr>\n",
              "  </tbody>\n",
              "</table>\n",
              "<p>100000 rows × 8 columns</p>\n",
              "</div>\n",
              "      <button class=\"colab-df-convert\" onclick=\"convertToInteractive('df-bca0c2b0-41f4-4585-a00f-f94f852bb245')\"\n",
              "              title=\"Convert this dataframe to an interactive table.\"\n",
              "              style=\"display:none;\">\n",
              "        \n",
              "  <svg xmlns=\"http://www.w3.org/2000/svg\" height=\"24px\"viewBox=\"0 0 24 24\"\n",
              "       width=\"24px\">\n",
              "    <path d=\"M0 0h24v24H0V0z\" fill=\"none\"/>\n",
              "    <path d=\"M18.56 5.44l.94 2.06.94-2.06 2.06-.94-2.06-.94-.94-2.06-.94 2.06-2.06.94zm-11 1L8.5 8.5l.94-2.06 2.06-.94-2.06-.94L8.5 2.5l-.94 2.06-2.06.94zm10 10l.94 2.06.94-2.06 2.06-.94-2.06-.94-.94-2.06-.94 2.06-2.06.94z\"/><path d=\"M17.41 7.96l-1.37-1.37c-.4-.4-.92-.59-1.43-.59-.52 0-1.04.2-1.43.59L10.3 9.45l-7.72 7.72c-.78.78-.78 2.05 0 2.83L4 21.41c.39.39.9.59 1.41.59.51 0 1.02-.2 1.41-.59l7.78-7.78 2.81-2.81c.8-.78.8-2.07 0-2.86zM5.41 20L4 18.59l7.72-7.72 1.47 1.35L5.41 20z\"/>\n",
              "  </svg>\n",
              "      </button>\n",
              "      \n",
              "  <style>\n",
              "    .colab-df-container {\n",
              "      display:flex;\n",
              "      flex-wrap:wrap;\n",
              "      gap: 12px;\n",
              "    }\n",
              "\n",
              "    .colab-df-convert {\n",
              "      background-color: #E8F0FE;\n",
              "      border: none;\n",
              "      border-radius: 50%;\n",
              "      cursor: pointer;\n",
              "      display: none;\n",
              "      fill: #1967D2;\n",
              "      height: 32px;\n",
              "      padding: 0 0 0 0;\n",
              "      width: 32px;\n",
              "    }\n",
              "\n",
              "    .colab-df-convert:hover {\n",
              "      background-color: #E2EBFA;\n",
              "      box-shadow: 0px 1px 2px rgba(60, 64, 67, 0.3), 0px 1px 3px 1px rgba(60, 64, 67, 0.15);\n",
              "      fill: #174EA6;\n",
              "    }\n",
              "\n",
              "    [theme=dark] .colab-df-convert {\n",
              "      background-color: #3B4455;\n",
              "      fill: #D2E3FC;\n",
              "    }\n",
              "\n",
              "    [theme=dark] .colab-df-convert:hover {\n",
              "      background-color: #434B5C;\n",
              "      box-shadow: 0px 1px 3px 1px rgba(0, 0, 0, 0.15);\n",
              "      filter: drop-shadow(0px 1px 2px rgba(0, 0, 0, 0.3));\n",
              "      fill: #FFFFFF;\n",
              "    }\n",
              "  </style>\n",
              "\n",
              "      <script>\n",
              "        const buttonEl =\n",
              "          document.querySelector('#df-bca0c2b0-41f4-4585-a00f-f94f852bb245 button.colab-df-convert');\n",
              "        buttonEl.style.display =\n",
              "          google.colab.kernel.accessAllowed ? 'block' : 'none';\n",
              "\n",
              "        async function convertToInteractive(key) {\n",
              "          const element = document.querySelector('#df-bca0c2b0-41f4-4585-a00f-f94f852bb245');\n",
              "          const dataTable =\n",
              "            await google.colab.kernel.invokeFunction('convertToInteractive',\n",
              "                                                     [key], {});\n",
              "          if (!dataTable) return;\n",
              "\n",
              "          const docLinkHtml = 'Like what you see? Visit the ' +\n",
              "            '<a target=\"_blank\" href=https://colab.research.google.com/notebooks/data_table.ipynb>data table notebook</a>'\n",
              "            + ' to learn more about interactive tables.';\n",
              "          element.innerHTML = '';\n",
              "          dataTable['output_type'] = 'display_data';\n",
              "          await google.colab.output.renderOutput(dataTable, element);\n",
              "          const docLink = document.createElement('div');\n",
              "          docLink.innerHTML = docLinkHtml;\n",
              "          element.appendChild(docLink);\n",
              "        }\n",
              "      </script>\n",
              "    </div>\n",
              "  </div>\n",
              "  "
            ]
          },
          "metadata": {},
          "execution_count": 156
        }
      ]
    },
    {
      "cell_type": "code",
      "source": [
        "green.describe(include=[object])"
      ],
      "metadata": {
        "id": "3pZPck3wWs3Y",
        "colab": {
          "base_uri": "https://localhost:8080/",
          "height": 175
        },
        "outputId": "65ca602d-585e-493b-bc93-b57f67782706"
      },
      "execution_count": null,
      "outputs": [
        {
          "output_type": "execute_result",
          "data": {
            "text/plain": [
              "0                                     hid has_green_id green_gvm_order_count  \\\n",
              "count                              100000       100000                100000   \n",
              "unique                             100000            3                    71   \n",
              "top     00003c7fb5e57ce673f1801f3679f5c25          0.0                   0.0   \n",
              "freq                                    1        99114                 99114   \n",
              "\n",
              "0      green_android green_apple  is_msk green_web  \n",
              "count         100000      100000  100000    100000  \n",
              "unique             2           2       2         2  \n",
              "top              0.0         0.0     0.0       0.0  \n",
              "freq           99454       99384   88079     99802  "
            ],
            "text/html": [
              "\n",
              "  <div id=\"df-c9b85cf3-9b34-456b-b771-bfbf396997be\">\n",
              "    <div class=\"colab-df-container\">\n",
              "      <div>\n",
              "<style scoped>\n",
              "    .dataframe tbody tr th:only-of-type {\n",
              "        vertical-align: middle;\n",
              "    }\n",
              "\n",
              "    .dataframe tbody tr th {\n",
              "        vertical-align: top;\n",
              "    }\n",
              "\n",
              "    .dataframe thead th {\n",
              "        text-align: right;\n",
              "    }\n",
              "</style>\n",
              "<table border=\"1\" class=\"dataframe\">\n",
              "  <thead>\n",
              "    <tr style=\"text-align: right;\">\n",
              "      <th></th>\n",
              "      <th>hid</th>\n",
              "      <th>has_green_id</th>\n",
              "      <th>green_gvm_order_count</th>\n",
              "      <th>green_android</th>\n",
              "      <th>green_apple</th>\n",
              "      <th>is_msk</th>\n",
              "      <th>green_web</th>\n",
              "    </tr>\n",
              "  </thead>\n",
              "  <tbody>\n",
              "    <tr>\n",
              "      <th>count</th>\n",
              "      <td>100000</td>\n",
              "      <td>100000</td>\n",
              "      <td>100000</td>\n",
              "      <td>100000</td>\n",
              "      <td>100000</td>\n",
              "      <td>100000</td>\n",
              "      <td>100000</td>\n",
              "    </tr>\n",
              "    <tr>\n",
              "      <th>unique</th>\n",
              "      <td>100000</td>\n",
              "      <td>3</td>\n",
              "      <td>71</td>\n",
              "      <td>2</td>\n",
              "      <td>2</td>\n",
              "      <td>2</td>\n",
              "      <td>2</td>\n",
              "    </tr>\n",
              "    <tr>\n",
              "      <th>top</th>\n",
              "      <td>00003c7fb5e57ce673f1801f3679f5c25</td>\n",
              "      <td>0.0</td>\n",
              "      <td>0.0</td>\n",
              "      <td>0.0</td>\n",
              "      <td>0.0</td>\n",
              "      <td>0.0</td>\n",
              "      <td>0.0</td>\n",
              "    </tr>\n",
              "    <tr>\n",
              "      <th>freq</th>\n",
              "      <td>1</td>\n",
              "      <td>99114</td>\n",
              "      <td>99114</td>\n",
              "      <td>99454</td>\n",
              "      <td>99384</td>\n",
              "      <td>88079</td>\n",
              "      <td>99802</td>\n",
              "    </tr>\n",
              "  </tbody>\n",
              "</table>\n",
              "</div>\n",
              "      <button class=\"colab-df-convert\" onclick=\"convertToInteractive('df-c9b85cf3-9b34-456b-b771-bfbf396997be')\"\n",
              "              title=\"Convert this dataframe to an interactive table.\"\n",
              "              style=\"display:none;\">\n",
              "        \n",
              "  <svg xmlns=\"http://www.w3.org/2000/svg\" height=\"24px\"viewBox=\"0 0 24 24\"\n",
              "       width=\"24px\">\n",
              "    <path d=\"M0 0h24v24H0V0z\" fill=\"none\"/>\n",
              "    <path d=\"M18.56 5.44l.94 2.06.94-2.06 2.06-.94-2.06-.94-.94-2.06-.94 2.06-2.06.94zm-11 1L8.5 8.5l.94-2.06 2.06-.94-2.06-.94L8.5 2.5l-.94 2.06-2.06.94zm10 10l.94 2.06.94-2.06 2.06-.94-2.06-.94-.94-2.06-.94 2.06-2.06.94z\"/><path d=\"M17.41 7.96l-1.37-1.37c-.4-.4-.92-.59-1.43-.59-.52 0-1.04.2-1.43.59L10.3 9.45l-7.72 7.72c-.78.78-.78 2.05 0 2.83L4 21.41c.39.39.9.59 1.41.59.51 0 1.02-.2 1.41-.59l7.78-7.78 2.81-2.81c.8-.78.8-2.07 0-2.86zM5.41 20L4 18.59l7.72-7.72 1.47 1.35L5.41 20z\"/>\n",
              "  </svg>\n",
              "      </button>\n",
              "      \n",
              "  <style>\n",
              "    .colab-df-container {\n",
              "      display:flex;\n",
              "      flex-wrap:wrap;\n",
              "      gap: 12px;\n",
              "    }\n",
              "\n",
              "    .colab-df-convert {\n",
              "      background-color: #E8F0FE;\n",
              "      border: none;\n",
              "      border-radius: 50%;\n",
              "      cursor: pointer;\n",
              "      display: none;\n",
              "      fill: #1967D2;\n",
              "      height: 32px;\n",
              "      padding: 0 0 0 0;\n",
              "      width: 32px;\n",
              "    }\n",
              "\n",
              "    .colab-df-convert:hover {\n",
              "      background-color: #E2EBFA;\n",
              "      box-shadow: 0px 1px 2px rgba(60, 64, 67, 0.3), 0px 1px 3px 1px rgba(60, 64, 67, 0.15);\n",
              "      fill: #174EA6;\n",
              "    }\n",
              "\n",
              "    [theme=dark] .colab-df-convert {\n",
              "      background-color: #3B4455;\n",
              "      fill: #D2E3FC;\n",
              "    }\n",
              "\n",
              "    [theme=dark] .colab-df-convert:hover {\n",
              "      background-color: #434B5C;\n",
              "      box-shadow: 0px 1px 3px 1px rgba(0, 0, 0, 0.15);\n",
              "      filter: drop-shadow(0px 1px 2px rgba(0, 0, 0, 0.3));\n",
              "      fill: #FFFFFF;\n",
              "    }\n",
              "  </style>\n",
              "\n",
              "      <script>\n",
              "        const buttonEl =\n",
              "          document.querySelector('#df-c9b85cf3-9b34-456b-b771-bfbf396997be button.colab-df-convert');\n",
              "        buttonEl.style.display =\n",
              "          google.colab.kernel.accessAllowed ? 'block' : 'none';\n",
              "\n",
              "        async function convertToInteractive(key) {\n",
              "          const element = document.querySelector('#df-c9b85cf3-9b34-456b-b771-bfbf396997be');\n",
              "          const dataTable =\n",
              "            await google.colab.kernel.invokeFunction('convertToInteractive',\n",
              "                                                     [key], {});\n",
              "          if (!dataTable) return;\n",
              "\n",
              "          const docLinkHtml = 'Like what you see? Visit the ' +\n",
              "            '<a target=\"_blank\" href=https://colab.research.google.com/notebooks/data_table.ipynb>data table notebook</a>'\n",
              "            + ' to learn more about interactive tables.';\n",
              "          element.innerHTML = '';\n",
              "          dataTable['output_type'] = 'display_data';\n",
              "          await google.colab.output.renderOutput(dataTable, element);\n",
              "          const docLink = document.createElement('div');\n",
              "          docLink.innerHTML = docLinkHtml;\n",
              "          element.appendChild(docLink);\n",
              "        }\n",
              "      </script>\n",
              "    </div>\n",
              "  </div>\n",
              "  "
            ]
          },
          "metadata": {},
          "execution_count": 157
        }
      ]
    },
    {
      "cell_type": "markdown",
      "source": [
        "Осталось проверить последнюю компанию. Мы видим опять в первом булевом столбце 3 значения вместо 2х, кроме того проверим на наличие некорректных дат в других столбцах."
      ],
      "metadata": {
        "id": "GxaI7pdjWwcs"
      }
    },
    {
      "cell_type": "code",
      "source": [
        "green.has_green_id.value_counts()"
      ],
      "metadata": {
        "id": "l09X1OarWyKf",
        "colab": {
          "base_uri": "https://localhost:8080/"
        },
        "outputId": "4f6e7aef-57ec-4e3f-893a-93d42ee06f5c"
      },
      "execution_count": null,
      "outputs": [
        {
          "output_type": "execute_result",
          "data": {
            "text/plain": [
              "0.0    99114\n",
              "1.0      882\n",
              "2.0        4\n",
              "Name: has_green_id, dtype: int64"
            ]
          },
          "metadata": {},
          "execution_count": 158
        }
      ]
    },
    {
      "cell_type": "markdown",
      "source": [
        "Опять работа с выбросами, их всего 4, так что можно от них избавиться."
      ],
      "metadata": {
        "id": "qPO9pu6JW2Tj"
      }
    },
    {
      "cell_type": "code",
      "source": [
        "green = green[green.has_green_id != '2.0']"
      ],
      "metadata": {
        "id": "e7Icz2W6W28m"
      },
      "execution_count": null,
      "outputs": []
    },
    {
      "cell_type": "code",
      "source": [
        "blue.blue_gmv_total = blue.blue_gmv_total.astype(float)\n",
        "blue.blue_activity_count = blue.blue_activity_count.astype(float)"
      ],
      "metadata": {
        "id": "yhlPkYhvW4eP"
      },
      "execution_count": null,
      "outputs": []
    },
    {
      "cell_type": "markdown",
      "source": [
        "На данный момент у нас имеются 4 переменных по каждой компании, в каждой данные очищены от выбросов, и столбцы с кол-вом переведены в числовой формат."
      ],
      "metadata": {
        "id": "E-oWGsWFW6Ke"
      }
    },
    {
      "cell_type": "markdown",
      "source": [
        "**2. Изучим и проанализируем данные**"
      ],
      "metadata": {
        "id": "CDIBfamUW8R9"
      }
    },
    {
      "cell_type": "code",
      "source": [
        "companies = [black, red, blue, green]\n",
        "for x in companies:\n",
        "    table = pd.DataFrame(x.is_msk.value_counts())\n",
        "    table['percentage'] = pd.DataFrame(x.is_msk.value_counts())/x.is_msk.count()*100\n",
        "    display(table)"
      ],
      "metadata": {
        "id": "1Cgl_prCW-D2",
        "colab": {
          "base_uri": "https://localhost:8080/",
          "height": 396
        },
        "outputId": "9338b0f3-cf14-43c7-c7f9-56be93d67603"
      },
      "execution_count": null,
      "outputs": [
        {
          "output_type": "display_data",
          "data": {
            "text/plain": [
              "     is_msk  percentage\n",
              "0.0   88074   88.078404\n",
              "1.0   11921   11.921596"
            ],
            "text/html": [
              "\n",
              "  <div id=\"df-c0d18ade-b348-433d-9260-c1e187d361b4\">\n",
              "    <div class=\"colab-df-container\">\n",
              "      <div>\n",
              "<style scoped>\n",
              "    .dataframe tbody tr th:only-of-type {\n",
              "        vertical-align: middle;\n",
              "    }\n",
              "\n",
              "    .dataframe tbody tr th {\n",
              "        vertical-align: top;\n",
              "    }\n",
              "\n",
              "    .dataframe thead th {\n",
              "        text-align: right;\n",
              "    }\n",
              "</style>\n",
              "<table border=\"1\" class=\"dataframe\">\n",
              "  <thead>\n",
              "    <tr style=\"text-align: right;\">\n",
              "      <th></th>\n",
              "      <th>is_msk</th>\n",
              "      <th>percentage</th>\n",
              "    </tr>\n",
              "  </thead>\n",
              "  <tbody>\n",
              "    <tr>\n",
              "      <th>0.0</th>\n",
              "      <td>88074</td>\n",
              "      <td>88.078404</td>\n",
              "    </tr>\n",
              "    <tr>\n",
              "      <th>1.0</th>\n",
              "      <td>11921</td>\n",
              "      <td>11.921596</td>\n",
              "    </tr>\n",
              "  </tbody>\n",
              "</table>\n",
              "</div>\n",
              "      <button class=\"colab-df-convert\" onclick=\"convertToInteractive('df-c0d18ade-b348-433d-9260-c1e187d361b4')\"\n",
              "              title=\"Convert this dataframe to an interactive table.\"\n",
              "              style=\"display:none;\">\n",
              "        \n",
              "  <svg xmlns=\"http://www.w3.org/2000/svg\" height=\"24px\"viewBox=\"0 0 24 24\"\n",
              "       width=\"24px\">\n",
              "    <path d=\"M0 0h24v24H0V0z\" fill=\"none\"/>\n",
              "    <path d=\"M18.56 5.44l.94 2.06.94-2.06 2.06-.94-2.06-.94-.94-2.06-.94 2.06-2.06.94zm-11 1L8.5 8.5l.94-2.06 2.06-.94-2.06-.94L8.5 2.5l-.94 2.06-2.06.94zm10 10l.94 2.06.94-2.06 2.06-.94-2.06-.94-.94-2.06-.94 2.06-2.06.94z\"/><path d=\"M17.41 7.96l-1.37-1.37c-.4-.4-.92-.59-1.43-.59-.52 0-1.04.2-1.43.59L10.3 9.45l-7.72 7.72c-.78.78-.78 2.05 0 2.83L4 21.41c.39.39.9.59 1.41.59.51 0 1.02-.2 1.41-.59l7.78-7.78 2.81-2.81c.8-.78.8-2.07 0-2.86zM5.41 20L4 18.59l7.72-7.72 1.47 1.35L5.41 20z\"/>\n",
              "  </svg>\n",
              "      </button>\n",
              "      \n",
              "  <style>\n",
              "    .colab-df-container {\n",
              "      display:flex;\n",
              "      flex-wrap:wrap;\n",
              "      gap: 12px;\n",
              "    }\n",
              "\n",
              "    .colab-df-convert {\n",
              "      background-color: #E8F0FE;\n",
              "      border: none;\n",
              "      border-radius: 50%;\n",
              "      cursor: pointer;\n",
              "      display: none;\n",
              "      fill: #1967D2;\n",
              "      height: 32px;\n",
              "      padding: 0 0 0 0;\n",
              "      width: 32px;\n",
              "    }\n",
              "\n",
              "    .colab-df-convert:hover {\n",
              "      background-color: #E2EBFA;\n",
              "      box-shadow: 0px 1px 2px rgba(60, 64, 67, 0.3), 0px 1px 3px 1px rgba(60, 64, 67, 0.15);\n",
              "      fill: #174EA6;\n",
              "    }\n",
              "\n",
              "    [theme=dark] .colab-df-convert {\n",
              "      background-color: #3B4455;\n",
              "      fill: #D2E3FC;\n",
              "    }\n",
              "\n",
              "    [theme=dark] .colab-df-convert:hover {\n",
              "      background-color: #434B5C;\n",
              "      box-shadow: 0px 1px 3px 1px rgba(0, 0, 0, 0.15);\n",
              "      filter: drop-shadow(0px 1px 2px rgba(0, 0, 0, 0.3));\n",
              "      fill: #FFFFFF;\n",
              "    }\n",
              "  </style>\n",
              "\n",
              "      <script>\n",
              "        const buttonEl =\n",
              "          document.querySelector('#df-c0d18ade-b348-433d-9260-c1e187d361b4 button.colab-df-convert');\n",
              "        buttonEl.style.display =\n",
              "          google.colab.kernel.accessAllowed ? 'block' : 'none';\n",
              "\n",
              "        async function convertToInteractive(key) {\n",
              "          const element = document.querySelector('#df-c0d18ade-b348-433d-9260-c1e187d361b4');\n",
              "          const dataTable =\n",
              "            await google.colab.kernel.invokeFunction('convertToInteractive',\n",
              "                                                     [key], {});\n",
              "          if (!dataTable) return;\n",
              "\n",
              "          const docLinkHtml = 'Like what you see? Visit the ' +\n",
              "            '<a target=\"_blank\" href=https://colab.research.google.com/notebooks/data_table.ipynb>data table notebook</a>'\n",
              "            + ' to learn more about interactive tables.';\n",
              "          element.innerHTML = '';\n",
              "          dataTable['output_type'] = 'display_data';\n",
              "          await google.colab.output.renderOutput(dataTable, element);\n",
              "          const docLink = document.createElement('div');\n",
              "          docLink.innerHTML = docLinkHtml;\n",
              "          element.appendChild(docLink);\n",
              "        }\n",
              "      </script>\n",
              "    </div>\n",
              "  </div>\n",
              "  "
            ]
          },
          "metadata": {}
        },
        {
          "output_type": "display_data",
          "data": {
            "text/plain": [
              "     is_msk  percentage\n",
              "0.0   88079      88.079\n",
              "1.0   11921      11.921"
            ],
            "text/html": [
              "\n",
              "  <div id=\"df-b0588100-b778-462f-b7a4-cbf3180c1318\">\n",
              "    <div class=\"colab-df-container\">\n",
              "      <div>\n",
              "<style scoped>\n",
              "    .dataframe tbody tr th:only-of-type {\n",
              "        vertical-align: middle;\n",
              "    }\n",
              "\n",
              "    .dataframe tbody tr th {\n",
              "        vertical-align: top;\n",
              "    }\n",
              "\n",
              "    .dataframe thead th {\n",
              "        text-align: right;\n",
              "    }\n",
              "</style>\n",
              "<table border=\"1\" class=\"dataframe\">\n",
              "  <thead>\n",
              "    <tr style=\"text-align: right;\">\n",
              "      <th></th>\n",
              "      <th>is_msk</th>\n",
              "      <th>percentage</th>\n",
              "    </tr>\n",
              "  </thead>\n",
              "  <tbody>\n",
              "    <tr>\n",
              "      <th>0.0</th>\n",
              "      <td>88079</td>\n",
              "      <td>88.079</td>\n",
              "    </tr>\n",
              "    <tr>\n",
              "      <th>1.0</th>\n",
              "      <td>11921</td>\n",
              "      <td>11.921</td>\n",
              "    </tr>\n",
              "  </tbody>\n",
              "</table>\n",
              "</div>\n",
              "      <button class=\"colab-df-convert\" onclick=\"convertToInteractive('df-b0588100-b778-462f-b7a4-cbf3180c1318')\"\n",
              "              title=\"Convert this dataframe to an interactive table.\"\n",
              "              style=\"display:none;\">\n",
              "        \n",
              "  <svg xmlns=\"http://www.w3.org/2000/svg\" height=\"24px\"viewBox=\"0 0 24 24\"\n",
              "       width=\"24px\">\n",
              "    <path d=\"M0 0h24v24H0V0z\" fill=\"none\"/>\n",
              "    <path d=\"M18.56 5.44l.94 2.06.94-2.06 2.06-.94-2.06-.94-.94-2.06-.94 2.06-2.06.94zm-11 1L8.5 8.5l.94-2.06 2.06-.94-2.06-.94L8.5 2.5l-.94 2.06-2.06.94zm10 10l.94 2.06.94-2.06 2.06-.94-2.06-.94-.94-2.06-.94 2.06-2.06.94z\"/><path d=\"M17.41 7.96l-1.37-1.37c-.4-.4-.92-.59-1.43-.59-.52 0-1.04.2-1.43.59L10.3 9.45l-7.72 7.72c-.78.78-.78 2.05 0 2.83L4 21.41c.39.39.9.59 1.41.59.51 0 1.02-.2 1.41-.59l7.78-7.78 2.81-2.81c.8-.78.8-2.07 0-2.86zM5.41 20L4 18.59l7.72-7.72 1.47 1.35L5.41 20z\"/>\n",
              "  </svg>\n",
              "      </button>\n",
              "      \n",
              "  <style>\n",
              "    .colab-df-container {\n",
              "      display:flex;\n",
              "      flex-wrap:wrap;\n",
              "      gap: 12px;\n",
              "    }\n",
              "\n",
              "    .colab-df-convert {\n",
              "      background-color: #E8F0FE;\n",
              "      border: none;\n",
              "      border-radius: 50%;\n",
              "      cursor: pointer;\n",
              "      display: none;\n",
              "      fill: #1967D2;\n",
              "      height: 32px;\n",
              "      padding: 0 0 0 0;\n",
              "      width: 32px;\n",
              "    }\n",
              "\n",
              "    .colab-df-convert:hover {\n",
              "      background-color: #E2EBFA;\n",
              "      box-shadow: 0px 1px 2px rgba(60, 64, 67, 0.3), 0px 1px 3px 1px rgba(60, 64, 67, 0.15);\n",
              "      fill: #174EA6;\n",
              "    }\n",
              "\n",
              "    [theme=dark] .colab-df-convert {\n",
              "      background-color: #3B4455;\n",
              "      fill: #D2E3FC;\n",
              "    }\n",
              "\n",
              "    [theme=dark] .colab-df-convert:hover {\n",
              "      background-color: #434B5C;\n",
              "      box-shadow: 0px 1px 3px 1px rgba(0, 0, 0, 0.15);\n",
              "      filter: drop-shadow(0px 1px 2px rgba(0, 0, 0, 0.3));\n",
              "      fill: #FFFFFF;\n",
              "    }\n",
              "  </style>\n",
              "\n",
              "      <script>\n",
              "        const buttonEl =\n",
              "          document.querySelector('#df-b0588100-b778-462f-b7a4-cbf3180c1318 button.colab-df-convert');\n",
              "        buttonEl.style.display =\n",
              "          google.colab.kernel.accessAllowed ? 'block' : 'none';\n",
              "\n",
              "        async function convertToInteractive(key) {\n",
              "          const element = document.querySelector('#df-b0588100-b778-462f-b7a4-cbf3180c1318');\n",
              "          const dataTable =\n",
              "            await google.colab.kernel.invokeFunction('convertToInteractive',\n",
              "                                                     [key], {});\n",
              "          if (!dataTable) return;\n",
              "\n",
              "          const docLinkHtml = 'Like what you see? Visit the ' +\n",
              "            '<a target=\"_blank\" href=https://colab.research.google.com/notebooks/data_table.ipynb>data table notebook</a>'\n",
              "            + ' to learn more about interactive tables.';\n",
              "          element.innerHTML = '';\n",
              "          dataTable['output_type'] = 'display_data';\n",
              "          await google.colab.output.renderOutput(dataTable, element);\n",
              "          const docLink = document.createElement('div');\n",
              "          docLink.innerHTML = docLinkHtml;\n",
              "          element.appendChild(docLink);\n",
              "        }\n",
              "      </script>\n",
              "    </div>\n",
              "  </div>\n",
              "  "
            ]
          },
          "metadata": {}
        },
        {
          "output_type": "display_data",
          "data": {
            "text/plain": [
              "     is_msk  percentage\n",
              "0.0   87649     88.1045\n",
              "1.0   11834     11.8955"
            ],
            "text/html": [
              "\n",
              "  <div id=\"df-55c94ef9-56a2-4d7c-a929-bb6f6fff909a\">\n",
              "    <div class=\"colab-df-container\">\n",
              "      <div>\n",
              "<style scoped>\n",
              "    .dataframe tbody tr th:only-of-type {\n",
              "        vertical-align: middle;\n",
              "    }\n",
              "\n",
              "    .dataframe tbody tr th {\n",
              "        vertical-align: top;\n",
              "    }\n",
              "\n",
              "    .dataframe thead th {\n",
              "        text-align: right;\n",
              "    }\n",
              "</style>\n",
              "<table border=\"1\" class=\"dataframe\">\n",
              "  <thead>\n",
              "    <tr style=\"text-align: right;\">\n",
              "      <th></th>\n",
              "      <th>is_msk</th>\n",
              "      <th>percentage</th>\n",
              "    </tr>\n",
              "  </thead>\n",
              "  <tbody>\n",
              "    <tr>\n",
              "      <th>0.0</th>\n",
              "      <td>87649</td>\n",
              "      <td>88.1045</td>\n",
              "    </tr>\n",
              "    <tr>\n",
              "      <th>1.0</th>\n",
              "      <td>11834</td>\n",
              "      <td>11.8955</td>\n",
              "    </tr>\n",
              "  </tbody>\n",
              "</table>\n",
              "</div>\n",
              "      <button class=\"colab-df-convert\" onclick=\"convertToInteractive('df-55c94ef9-56a2-4d7c-a929-bb6f6fff909a')\"\n",
              "              title=\"Convert this dataframe to an interactive table.\"\n",
              "              style=\"display:none;\">\n",
              "        \n",
              "  <svg xmlns=\"http://www.w3.org/2000/svg\" height=\"24px\"viewBox=\"0 0 24 24\"\n",
              "       width=\"24px\">\n",
              "    <path d=\"M0 0h24v24H0V0z\" fill=\"none\"/>\n",
              "    <path d=\"M18.56 5.44l.94 2.06.94-2.06 2.06-.94-2.06-.94-.94-2.06-.94 2.06-2.06.94zm-11 1L8.5 8.5l.94-2.06 2.06-.94-2.06-.94L8.5 2.5l-.94 2.06-2.06.94zm10 10l.94 2.06.94-2.06 2.06-.94-2.06-.94-.94-2.06-.94 2.06-2.06.94z\"/><path d=\"M17.41 7.96l-1.37-1.37c-.4-.4-.92-.59-1.43-.59-.52 0-1.04.2-1.43.59L10.3 9.45l-7.72 7.72c-.78.78-.78 2.05 0 2.83L4 21.41c.39.39.9.59 1.41.59.51 0 1.02-.2 1.41-.59l7.78-7.78 2.81-2.81c.8-.78.8-2.07 0-2.86zM5.41 20L4 18.59l7.72-7.72 1.47 1.35L5.41 20z\"/>\n",
              "  </svg>\n",
              "      </button>\n",
              "      \n",
              "  <style>\n",
              "    .colab-df-container {\n",
              "      display:flex;\n",
              "      flex-wrap:wrap;\n",
              "      gap: 12px;\n",
              "    }\n",
              "\n",
              "    .colab-df-convert {\n",
              "      background-color: #E8F0FE;\n",
              "      border: none;\n",
              "      border-radius: 50%;\n",
              "      cursor: pointer;\n",
              "      display: none;\n",
              "      fill: #1967D2;\n",
              "      height: 32px;\n",
              "      padding: 0 0 0 0;\n",
              "      width: 32px;\n",
              "    }\n",
              "\n",
              "    .colab-df-convert:hover {\n",
              "      background-color: #E2EBFA;\n",
              "      box-shadow: 0px 1px 2px rgba(60, 64, 67, 0.3), 0px 1px 3px 1px rgba(60, 64, 67, 0.15);\n",
              "      fill: #174EA6;\n",
              "    }\n",
              "\n",
              "    [theme=dark] .colab-df-convert {\n",
              "      background-color: #3B4455;\n",
              "      fill: #D2E3FC;\n",
              "    }\n",
              "\n",
              "    [theme=dark] .colab-df-convert:hover {\n",
              "      background-color: #434B5C;\n",
              "      box-shadow: 0px 1px 3px 1px rgba(0, 0, 0, 0.15);\n",
              "      filter: drop-shadow(0px 1px 2px rgba(0, 0, 0, 0.3));\n",
              "      fill: #FFFFFF;\n",
              "    }\n",
              "  </style>\n",
              "\n",
              "      <script>\n",
              "        const buttonEl =\n",
              "          document.querySelector('#df-55c94ef9-56a2-4d7c-a929-bb6f6fff909a button.colab-df-convert');\n",
              "        buttonEl.style.display =\n",
              "          google.colab.kernel.accessAllowed ? 'block' : 'none';\n",
              "\n",
              "        async function convertToInteractive(key) {\n",
              "          const element = document.querySelector('#df-55c94ef9-56a2-4d7c-a929-bb6f6fff909a');\n",
              "          const dataTable =\n",
              "            await google.colab.kernel.invokeFunction('convertToInteractive',\n",
              "                                                     [key], {});\n",
              "          if (!dataTable) return;\n",
              "\n",
              "          const docLinkHtml = 'Like what you see? Visit the ' +\n",
              "            '<a target=\"_blank\" href=https://colab.research.google.com/notebooks/data_table.ipynb>data table notebook</a>'\n",
              "            + ' to learn more about interactive tables.';\n",
              "          element.innerHTML = '';\n",
              "          dataTable['output_type'] = 'display_data';\n",
              "          await google.colab.output.renderOutput(dataTable, element);\n",
              "          const docLink = document.createElement('div');\n",
              "          docLink.innerHTML = docLinkHtml;\n",
              "          element.appendChild(docLink);\n",
              "        }\n",
              "      </script>\n",
              "    </div>\n",
              "  </div>\n",
              "  "
            ]
          },
          "metadata": {}
        },
        {
          "output_type": "display_data",
          "data": {
            "text/plain": [
              "     is_msk  percentage\n",
              "0.0   88079   88.082523\n",
              "1.0   11917   11.917477"
            ],
            "text/html": [
              "\n",
              "  <div id=\"df-7581a79b-a532-40a5-9709-36bf152ddf7b\">\n",
              "    <div class=\"colab-df-container\">\n",
              "      <div>\n",
              "<style scoped>\n",
              "    .dataframe tbody tr th:only-of-type {\n",
              "        vertical-align: middle;\n",
              "    }\n",
              "\n",
              "    .dataframe tbody tr th {\n",
              "        vertical-align: top;\n",
              "    }\n",
              "\n",
              "    .dataframe thead th {\n",
              "        text-align: right;\n",
              "    }\n",
              "</style>\n",
              "<table border=\"1\" class=\"dataframe\">\n",
              "  <thead>\n",
              "    <tr style=\"text-align: right;\">\n",
              "      <th></th>\n",
              "      <th>is_msk</th>\n",
              "      <th>percentage</th>\n",
              "    </tr>\n",
              "  </thead>\n",
              "  <tbody>\n",
              "    <tr>\n",
              "      <th>0.0</th>\n",
              "      <td>88079</td>\n",
              "      <td>88.082523</td>\n",
              "    </tr>\n",
              "    <tr>\n",
              "      <th>1.0</th>\n",
              "      <td>11917</td>\n",
              "      <td>11.917477</td>\n",
              "    </tr>\n",
              "  </tbody>\n",
              "</table>\n",
              "</div>\n",
              "      <button class=\"colab-df-convert\" onclick=\"convertToInteractive('df-7581a79b-a532-40a5-9709-36bf152ddf7b')\"\n",
              "              title=\"Convert this dataframe to an interactive table.\"\n",
              "              style=\"display:none;\">\n",
              "        \n",
              "  <svg xmlns=\"http://www.w3.org/2000/svg\" height=\"24px\"viewBox=\"0 0 24 24\"\n",
              "       width=\"24px\">\n",
              "    <path d=\"M0 0h24v24H0V0z\" fill=\"none\"/>\n",
              "    <path d=\"M18.56 5.44l.94 2.06.94-2.06 2.06-.94-2.06-.94-.94-2.06-.94 2.06-2.06.94zm-11 1L8.5 8.5l.94-2.06 2.06-.94-2.06-.94L8.5 2.5l-.94 2.06-2.06.94zm10 10l.94 2.06.94-2.06 2.06-.94-2.06-.94-.94-2.06-.94 2.06-2.06.94z\"/><path d=\"M17.41 7.96l-1.37-1.37c-.4-.4-.92-.59-1.43-.59-.52 0-1.04.2-1.43.59L10.3 9.45l-7.72 7.72c-.78.78-.78 2.05 0 2.83L4 21.41c.39.39.9.59 1.41.59.51 0 1.02-.2 1.41-.59l7.78-7.78 2.81-2.81c.8-.78.8-2.07 0-2.86zM5.41 20L4 18.59l7.72-7.72 1.47 1.35L5.41 20z\"/>\n",
              "  </svg>\n",
              "      </button>\n",
              "      \n",
              "  <style>\n",
              "    .colab-df-container {\n",
              "      display:flex;\n",
              "      flex-wrap:wrap;\n",
              "      gap: 12px;\n",
              "    }\n",
              "\n",
              "    .colab-df-convert {\n",
              "      background-color: #E8F0FE;\n",
              "      border: none;\n",
              "      border-radius: 50%;\n",
              "      cursor: pointer;\n",
              "      display: none;\n",
              "      fill: #1967D2;\n",
              "      height: 32px;\n",
              "      padding: 0 0 0 0;\n",
              "      width: 32px;\n",
              "    }\n",
              "\n",
              "    .colab-df-convert:hover {\n",
              "      background-color: #E2EBFA;\n",
              "      box-shadow: 0px 1px 2px rgba(60, 64, 67, 0.3), 0px 1px 3px 1px rgba(60, 64, 67, 0.15);\n",
              "      fill: #174EA6;\n",
              "    }\n",
              "\n",
              "    [theme=dark] .colab-df-convert {\n",
              "      background-color: #3B4455;\n",
              "      fill: #D2E3FC;\n",
              "    }\n",
              "\n",
              "    [theme=dark] .colab-df-convert:hover {\n",
              "      background-color: #434B5C;\n",
              "      box-shadow: 0px 1px 3px 1px rgba(0, 0, 0, 0.15);\n",
              "      filter: drop-shadow(0px 1px 2px rgba(0, 0, 0, 0.3));\n",
              "      fill: #FFFFFF;\n",
              "    }\n",
              "  </style>\n",
              "\n",
              "      <script>\n",
              "        const buttonEl =\n",
              "          document.querySelector('#df-7581a79b-a532-40a5-9709-36bf152ddf7b button.colab-df-convert');\n",
              "        buttonEl.style.display =\n",
              "          google.colab.kernel.accessAllowed ? 'block' : 'none';\n",
              "\n",
              "        async function convertToInteractive(key) {\n",
              "          const element = document.querySelector('#df-7581a79b-a532-40a5-9709-36bf152ddf7b');\n",
              "          const dataTable =\n",
              "            await google.colab.kernel.invokeFunction('convertToInteractive',\n",
              "                                                     [key], {});\n",
              "          if (!dataTable) return;\n",
              "\n",
              "          const docLinkHtml = 'Like what you see? Visit the ' +\n",
              "            '<a target=\"_blank\" href=https://colab.research.google.com/notebooks/data_table.ipynb>data table notebook</a>'\n",
              "            + ' to learn more about interactive tables.';\n",
              "          element.innerHTML = '';\n",
              "          dataTable['output_type'] = 'display_data';\n",
              "          await google.colab.output.renderOutput(dataTable, element);\n",
              "          const docLink = document.createElement('div');\n",
              "          docLink.innerHTML = docLinkHtml;\n",
              "          element.appendChild(docLink);\n",
              "        }\n",
              "      </script>\n",
              "    </div>\n",
              "  </div>\n",
              "  "
            ]
          },
          "metadata": {}
        }
      ]
    },
    {
      "cell_type": "markdown",
      "source": [
        "Анализируя столбец по территориальному расположению в Москве пользователя компании, можно сказать, что в каждой оно  распределено примерно одинаково. Большинство - примерно 88 % находятся в Москве, остальные примерно 12 % не в Мск."
      ],
      "metadata": {
        "id": "t9mTkUWsXAMq"
      }
    },
    {
      "cell_type": "code",
      "source": [
        "def plots(col):\n",
        "\n",
        "        companies_ = [green, black, blue, red]\n",
        "        names = ['green', 'black', 'blue', 'red']\n",
        "\n",
        "        for company in companies_:\n",
        "            for column in company.columns:\n",
        "                if col in column:\n",
        "                    company = company.rename(columns={column: col}, inplace=True)\n",
        "\n",
        "        fig, axes = plt.subplots(nrows=1, ncols=4, figsize=(10, 5))\n",
        "        fig.suptitle(f'Количество установок приложения компании на платформе {col}', fontsize=12)\n",
        "\n",
        "        for i, table in enumerate(companies_):\n",
        "            axes[i].pie(table[col].astype(float).value_counts(sort=False, ascending=True), autopct='%1.2f%%', pctdistance=1.4)\n",
        "            axes[i].set_title(f'{names[i]}')\n",
        "\n",
        "        labels = [f\"нет приложения\", f\"есть приложение\"]\n",
        "        fig.legend(labels=labels, loc='lower right')\n",
        "        fig.tight_layout()\n",
        "\n",
        "\n",
        "        return plt.show()"
      ],
      "metadata": {
        "id": "IwMMhPqWXCLq"
      },
      "execution_count": null,
      "outputs": []
    },
    {
      "cell_type": "code",
      "source": [
        "plots('web')"
      ],
      "metadata": {
        "id": "jpDpjVNtXEBC",
        "colab": {
          "base_uri": "https://localhost:8080/",
          "height": 520
        },
        "outputId": "c435c461-34fb-4ce8-8860-fe2a7f039b5d"
      },
      "execution_count": null,
      "outputs": [
        {
          "output_type": "display_data",
          "data": {
            "text/plain": [
              "<Figure size 1000x500 with 4 Axes>"
            ],
            "image/png": "[encoded data removed]"
          },
          "metadata": {}
        }
      ]
    },
    {
      "cell_type": "markdown",
      "source": [
        "Проанализировав данные о наличии установки приложения компании на ПК в каждой из 4х компаний, можно сделать следующие выводы:\n",
        "    \n",
        "- Больше всего установок в компании Red - 67%\n",
        "    \n",
        "- Меньше всего установок в компании Green - 0.2%"
      ],
      "metadata": {
        "id": "FzW7ozV0XHso"
      }
    },
    {
      "cell_type": "code",
      "source": [
        "plots('apple')"
      ],
      "metadata": {
        "id": "LXj2y9UoXJXh",
        "colab": {
          "base_uri": "https://localhost:8080/",
          "height": 520
        },
        "outputId": "c89b44e4-d674-43e8-c043-aad220e79743"
      },
      "execution_count": null,
      "outputs": [
        {
          "output_type": "display_data",
          "data": {
            "text/plain": [
              "<Figure size 1000x500 with 4 Axes>"
            ],
            "image/png": "[encoded data removed]"
          },
          "metadata": {}
        }
      ]
    },
    {
      "cell_type": "code",
      "source": [
        "plots('android')"
      ],
      "metadata": {
        "id": "F7gWOQkzXMd0",
        "colab": {
          "base_uri": "https://localhost:8080/",
          "height": 520
        },
        "outputId": "fd1f8e6a-efa3-4a02-e3eb-676354060133"
      },
      "execution_count": null,
      "outputs": [
        {
          "output_type": "display_data",
          "data": {
            "text/plain": [
              "<Figure size 1000x500 with 4 Axes>"
            ],
            "image/png": "[encoded data removed]"
          },
          "metadata": {}
        }
      ]
    },
    {
      "cell_type": "markdown",
      "source": [
        "Ситуация повторяется и по отношению к платформам apple  и android.\n",
        "    \n",
        "- В компании Red по-прежнему наибольшее кол-во скачиваний, в Green - меньше всего.\n",
        "    \n",
        "- В компании Red и Blue - больше всего скачиваний на web, меньше всего на apple. В компании Black  больше всего скачиваний на apple, меньше всего на android.\n",
        "    \n",
        "- Green имеет больше установок на apple, меньше всего на web."
      ],
      "metadata": {
        "id": "a-u8TY0pXOd7"
      }
    },
    {
      "cell_type": "code",
      "source": [
        "def plots_id(col):\n",
        "\n",
        "        companies_1 = [green, black, blue]\n",
        "        names = ['green', 'black', 'blue']\n",
        "\n",
        "        for company in companies_1:\n",
        "            for column in company.columns:\n",
        "                if col in column:\n",
        "                    company = company.rename(columns={column: col}, inplace=True)\n",
        "\n",
        "        fig, axes = plt.subplots(nrows=1, ncols=3, figsize=(9, 4))\n",
        "        fig.suptitle(f'Наличие зарегистрированного аккаунта в компании', fontsize=12)\n",
        "\n",
        "        for i, table in enumerate(companies_1):\n",
        "            axes[i].pie(table[col].astype(float).value_counts(), autopct='%1.2f%%', pctdistance=1.4)\n",
        "            axes[i].set_title(f'{names[i]}')\n",
        "\n",
        "        labels = [f\"не зарегистрирован\", f\"зарегистрирован\"]\n",
        "        fig.legend(labels=labels, loc='lower right')\n",
        "        fig.tight_layout()\n",
        "\n",
        "\n",
        "        return plt.show()"
      ],
      "metadata": {
        "id": "2GfXt0HUXPKW"
      },
      "execution_count": null,
      "outputs": []
    },
    {
      "cell_type": "code",
      "source": [
        "plots_id('has')"
      ],
      "metadata": {
        "id": "iFnw9Nu3XTY5",
        "colab": {
          "base_uri": "https://localhost:8080/",
          "height": 422
        },
        "outputId": "6f631893-8012-45b7-d58d-af851cbf64f0"
      },
      "execution_count": null,
      "outputs": [
        {
          "output_type": "display_data",
          "data": {
            "text/plain": [
              "<Figure size 900x400 with 3 Axes>"
            ],
            "image/png": "[encoded data removed]"
          },
          "metadata": {}
        }
      ]
    },
    {
      "cell_type": "markdown",
      "source": [
        "По компании Red отсутствуют данные по соответствующему столбцу, поэтому анализируем по 3м компаниям. Больше всего зарегестрированных аккаунтов имеет компания Blue, меньше всего по-прежнему Green ."
      ],
      "metadata": {
        "id": "r3Oui3WkXViA"
      }
    },
    {
      "cell_type": "code",
      "source": [
        "companies = [green, black, blue]\n",
        "names = ['green', 'black', 'blue']\n",
        "\n",
        "for company in companies:\n",
        "    for column in company.columns:\n",
        "        if 'gmv_total' in column:\n",
        "            company = company.rename(columns={column: 'gmv_total'}, inplace=True)\n",
        "\n",
        "print ('\\033[1m' + 'Суммарный gmv пользователя в сервисе')\n",
        "\n",
        "\n",
        "for i, table in enumerate(companies):\n",
        "    counts = table['gmv_total'].value_counts()\n",
        "    sns.barplot(x = counts.values, y = counts.index).set_title(f'{names[i]}')\n",
        "    plt.ylabel('кол-во успешных заказов')\n",
        "    plt.xlabel('частота встречаемости')\n",
        "    plt.show()"
      ],
      "metadata": {
        "id": "tQzsjpOPXWUn",
        "colab": {
          "base_uri": "https://localhost:8080/",
          "height": 1000
        },
        "outputId": "c399cd2f-bb55-440a-9c2a-6ed989d8a964"
      },
      "execution_count": null,
      "outputs": [
        {
          "output_type": "stream",
          "name": "stdout",
          "text": [
            "\u001b[1mСуммарный gmv пользователя в сервисе\n"
          ]
        },
        {
          "output_type": "display_data",
          "data": {
            "text/plain": [
              "<Figure size 640x480 with 1 Axes>"
            ],
            "image/png": "[encoded data removed]"
          },
          "metadata": {}
        },
        {
          "output_type": "display_data",
          "data": {
            "text/plain": [
              "<Figure size 640x480 with 1 Axes>"
            ],
            "image/png": "[encoded data removed]"
          },
          "metadata": {}
        },
        {
          "output_type": "display_data",
          "data": {
            "text/plain": [
              "<Figure size 640x480 with 1 Axes>"
            ],
            "image/png": "[encoded data removed]"
          },
          "metadata": {}
        }
      ]
    },
    {
      "cell_type": "markdown",
      "source": [
        "Говоря про суммарный gmv пользователя по представленным данным, кроме компании Red, мы видим большое кол-во gmv пользователя = 0. Больших значений очень мало. Знчения gmv по компаниям green, black более-менее схожи и варьируются от 0 до 10 000. В blue иначе.Значения от 0 до 1250, что говорит о том , что совокупная стоимость товаров в этой компании меньше, кроме того кол-во нулевых  gmv здесь выше."
      ],
      "metadata": {
        "id": "uG4PkujtXZkp"
      }
    },
    {
      "cell_type": "markdown",
      "source": [
        "Посмотрим на средние показатели gmv по компаниям."
      ],
      "metadata": {
        "id": "BkVKBapCXaO4"
      }
    },
    {
      "cell_type": "code",
      "source": [
        "black.gmv_total.mean()"
      ],
      "metadata": {
        "id": "MJg-QveNXchr",
        "colab": {
          "base_uri": "https://localhost:8080/"
        },
        "outputId": "bd6614bc-1d58-4cec-9ba4-3cb21c685627"
      },
      "execution_count": null,
      "outputs": [
        {
          "output_type": "execute_result",
          "data": {
            "text/plain": [
              "94.24497224861243"
            ]
          },
          "metadata": {},
          "execution_count": 169
        }
      ]
    },
    {
      "cell_type": "code",
      "source": [
        "green.gmv_total.mean()"
      ],
      "metadata": {
        "id": "kK7YJGSKXeAs",
        "colab": {
          "base_uri": "https://localhost:8080/"
        },
        "outputId": "ac2757d9-e991-401c-fcab-8fc11d7bc411"
      },
      "execution_count": null,
      "outputs": [
        {
          "output_type": "execute_result",
          "data": {
            "text/plain": [
              "59.82145285811433"
            ]
          },
          "metadata": {},
          "execution_count": 170
        }
      ]
    },
    {
      "cell_type": "code",
      "source": [
        "blue.gmv_total.mean()"
      ],
      "metadata": {
        "id": "wSY4Lse_XeLV",
        "colab": {
          "base_uri": "https://localhost:8080/"
        },
        "outputId": "8fa8c30a-635b-46bb-e890-cd566da2930d"
      },
      "execution_count": null,
      "outputs": [
        {
          "output_type": "execute_result",
          "data": {
            "text/plain": [
              "2.349346119437492"
            ]
          },
          "metadata": {},
          "execution_count": 171
        }
      ]
    },
    {
      "cell_type": "markdown",
      "source": [
        "Компания Black лидирует по среднему значению gmv пользователя, наименьшие показатели в компании Blue. Разница средних показателей колоссальна и варьируется от 2.3 до 94.2. Что говорит о разном положении компаний на рынке. Компания Blue явно отстает от Black и Green, которая занимает среднее место по этому показателю."
      ],
      "metadata": {
        "id": "q_MrMw_GXhhf"
      }
    },
    {
      "cell_type": "code",
      "source": [
        "companies2 = [blue, red]\n",
        "names2 = ['blue', 'red']\n",
        "\n",
        "for company in companies2:\n",
        "    for column in company.columns:\n",
        "        if 'activity_count' in column:\n",
        "            company = company.rename(columns={column: 'activity_count'}, inplace=True)\n",
        "\n",
        "print ('\\033[1m' + 'Количество активных действий пользователя в сервисе')\n",
        "plt.figure(figsize = (16,9))\n",
        "for i, table in enumerate(companies2):\n",
        "    counts = table['activity_count'].astype(int).value_counts()\n",
        "    sns.barplot(x = counts.values, y = counts.index).set_title(f'{names2[i]}')\n",
        "    plt.ylabel('кол-во успешных заказов')\n",
        "    plt.xlabel('частота встречаемости')\n",
        "    plt.show()"
      ],
      "metadata": {
        "id": "Ohb-lPRSXjUp",
        "colab": {
          "base_uri": "https://localhost:8080/",
          "height": 1000
        },
        "outputId": "fe5bb28d-c31b-422a-f8d6-d8fc482ae4b7"
      },
      "execution_count": null,
      "outputs": [
        {
          "output_type": "stream",
          "name": "stdout",
          "text": [
            "\u001b[1mКоличество активных действий пользователя в сервисе\n"
          ]
        },
        {
          "output_type": "display_data",
          "data": {
            "text/plain": [
              "<Figure size 1600x900 with 1 Axes>"
            ],
            "image/png": "[encoded data removed]"
          },
          "metadata": {}
        },
        {
          "output_type": "display_data",
          "data": {
            "text/plain": [
              "<Figure size 640x480 with 1 Axes>"
            ],
            "image/png": "[encoded data removed]"
          },
          "metadata": {}
        }
      ]
    },
    {
      "cell_type": "code",
      "source": [
        "blue.activity_count.mean()"
      ],
      "metadata": {
        "id": "LoFEdryyXmC7",
        "colab": {
          "base_uri": "https://localhost:8080/"
        },
        "outputId": "ae9e92fc-d821-4f14-889d-667b9a0c0a97"
      },
      "execution_count": null,
      "outputs": [
        {
          "output_type": "execute_result",
          "data": {
            "text/plain": [
              "0.19139953559904707"
            ]
          },
          "metadata": {},
          "execution_count": 173
        }
      ]
    },
    {
      "cell_type": "code",
      "source": [
        "red.activity_count.mean()"
      ],
      "metadata": {
        "id": "gh3xMoJWXpL0",
        "colab": {
          "base_uri": "https://localhost:8080/"
        },
        "outputId": "54080af3-d38a-427e-9733-ff0a8b15f373"
      },
      "execution_count": null,
      "outputs": [
        {
          "output_type": "execute_result",
          "data": {
            "text/plain": [
              "0.55874"
            ]
          },
          "metadata": {},
          "execution_count": 174
        }
      ]
    },
    {
      "cell_type": "markdown",
      "source": [
        "Данные по активным действия пользователей представлены только по 2-м компаниям. В Blue  мы видим широкий спектр кол-ва активных действий пользователей, когда в Red  действие либо активное, либо нет. В компании red больше активных действий, чем неактивных. В компании Blue  мы видим, что активные действия в основном не превышают 10 шт, далее - более редкие случаи. Несмотря на большой разброс, в Blue все равно в среднем кол-во активных действий 2, когда в Red при округлении -  1."
      ],
      "metadata": {
        "id": "paxxBYjVXqzb"
      }
    },
    {
      "cell_type": "code",
      "source": [
        "companies3 = [green, black]\n",
        "names3 = ['green', 'black']\n",
        "\n",
        "for company in companies3:\n",
        "    for column in company.columns:\n",
        "        if 'order_count' in column:\n",
        "            company = company.rename(columns={column: 'order_count'}, inplace=True)"
      ],
      "metadata": {
        "id": "lk2r-0_JXte0"
      },
      "execution_count": null,
      "outputs": []
    },
    {
      "cell_type": "code",
      "source": [
        "counts_black = black['order_count'].value_counts()\n",
        "plt.figure(figsize = (10,5))\n",
        "sns.barplot(x = counts_black.values, y = counts_black.index).set_title(f'{names3[i]}')\n",
        "plt.title('Количество успешных заказов пользователя в сервисе по компании black')\n",
        "plt.ylabel('кол-во успешных заказов' )\n",
        "plt.xlabel('частота встречаемости' )\n",
        "plt.show()"
      ],
      "metadata": {
        "id": "N0hWaStzXuJj",
        "colab": {
          "base_uri": "https://localhost:8080/",
          "height": 487
        },
        "outputId": "27bbf300-0546-4dac-faaf-9bd298ca261f"
      },
      "execution_count": null,
      "outputs": [
        {
          "output_type": "display_data",
          "data": {
            "text/plain": [
              "<Figure size 1000x500 with 1 Axes>"
            ],
            "image/png": "[encoded data removed]"
          },
          "metadata": {}
        }
      ]
    },
    {
      "cell_type": "code",
      "source": [
        "counts_black.astype(int).loc [ lambda x : x != 0].count()/counts_black.shape[0]"
      ],
      "metadata": {
        "id": "zLx_xTG6Xw6v",
        "colab": {
          "base_uri": "https://localhost:8080/"
        },
        "outputId": "c3251930-1cbc-446c-d9f8-41d38938e97a"
      },
      "execution_count": null,
      "outputs": [
        {
          "output_type": "execute_result",
          "data": {
            "text/plain": [
              "1.0"
            ]
          },
          "metadata": {},
          "execution_count": 177
        }
      ]
    },
    {
      "cell_type": "markdown",
      "source": [
        "Большую долю опять составляют нули, далее наибольше кол-во успешных заказов = 1. Кол-во успешных заказов обычно доходит до 8, далее - реже."
      ],
      "metadata": {
        "id": "R2vdRGsjXyld"
      }
    },
    {
      "cell_type": "code",
      "source": [
        "green.order_count.value_counts()"
      ],
      "metadata": {
        "id": "ywVSWJiQXzMK",
        "colab": {
          "base_uri": "https://localhost:8080/"
        },
        "outputId": "a28ae140-786a-41f5-cae8-6b9119d64496"
      },
      "execution_count": null,
      "outputs": [
        {
          "output_type": "execute_result",
          "data": {
            "text/plain": [
              "0.0     99114\n",
              "1.0       238\n",
              "2.0       123\n",
              "4.0        81\n",
              "3.0        70\n",
              "        ...  \n",
              "45.0        1\n",
              "62.0        1\n",
              "49.0        1\n",
              "21.0        1\n",
              "60.0        1\n",
              "Name: order_count, Length: 69, dtype: int64"
            ]
          },
          "metadata": {},
          "execution_count": 178
        }
      ]
    },
    {
      "cell_type": "code",
      "source": [
        "green_success = green[green.order_count != '0.0'].order_count.value_counts().astype(int)\n",
        "green_success"
      ],
      "metadata": {
        "id": "KshHrkbOX1TM",
        "colab": {
          "base_uri": "https://localhost:8080/"
        },
        "outputId": "523fb1d3-a03c-4d75-b4a6-057fe077a54f"
      },
      "execution_count": null,
      "outputs": [
        {
          "output_type": "execute_result",
          "data": {
            "text/plain": [
              "1.0     238\n",
              "2.0     123\n",
              "4.0      81\n",
              "3.0      70\n",
              "5.0      48\n",
              "       ... \n",
              "45.0      1\n",
              "62.0      1\n",
              "49.0      1\n",
              "21.0      1\n",
              "60.0      1\n",
              "Name: order_count, Length: 68, dtype: int64"
            ]
          },
          "metadata": {},
          "execution_count": 179
        }
      ]
    },
    {
      "cell_type": "markdown",
      "source": [
        "По компании Green слишком много значений, поэтому построить график будет трудно. Мы видим, что кол-во нулей преобладает и составляет большую часть, то есть кол-во успешных заказов в основном равно 0. Рассмотрим на графике кол-во успешных заказов больше 0."
      ],
      "metadata": {
        "id": "ciUZwopjX41S"
      }
    },
    {
      "cell_type": "code",
      "source": [
        "green_success.loc [ lambda x : x == 1].count()/green.order_count.shape[0]"
      ],
      "metadata": {
        "id": "NStRpwBIX5e6",
        "colab": {
          "base_uri": "https://localhost:8080/"
        },
        "outputId": "fcd835c2-c0ee-43cf-9cd8-845e5d00e628"
      },
      "execution_count": null,
      "outputs": [
        {
          "output_type": "execute_result",
          "data": {
            "text/plain": [
              "0.00034001360054402175"
            ]
          },
          "metadata": {},
          "execution_count": 180
        }
      ]
    },
    {
      "cell_type": "markdown",
      "source": [
        "Единичные случаи тоже исключим, тем более они составляют менее 1 процента данных."
      ],
      "metadata": {
        "id": "4RT99Ma6X8LC"
      }
    },
    {
      "cell_type": "code",
      "source": [
        "green_success = green_success.loc [ lambda x : x > 1]"
      ],
      "metadata": {
        "id": "JCQmqL1cX82L"
      },
      "execution_count": null,
      "outputs": []
    },
    {
      "cell_type": "code",
      "source": [
        "plt.figure(figsize = (25,9))\n",
        "plt.title('Количество успешных заказов пользователя в сервисе по компании green', fontsize=25)\n",
        "sns.barplot(x = green_success.index, y = green_success.values)\n",
        "plt.ylabel('кол-во успешных заказов', fontsize=20 )\n",
        "plt.xlabel('частота встречаемости', fontsize=20 )\n",
        "plt.show()"
      ],
      "metadata": {
        "id": "7tizqcfdX-jP",
        "colab": {
          "base_uri": "https://localhost:8080/",
          "height": 560
        },
        "outputId": "e1128eaf-b3ba-43b8-8e56-681f8df0f8ca"
      },
      "execution_count": null,
      "outputs": [
        {
          "output_type": "display_data",
          "data": {
            "text/plain": [
              "<Figure size 2500x900 with 1 Axes>"
            ],
            "image/png": "[encoded data removed]"
          },
          "metadata": {}
        }
      ]
    },
    {
      "cell_type": "markdown",
      "source": [
        "В компании Green ситуация идентична: большую долю опять составляют нули, далее наибольше кол-во успешных заказов = 1. В основном, успешные заказы пользователя доходят до 15 шт, дальше - наиболее редкие результаты."
      ],
      "metadata": {
        "id": "-GuOxDpxYCGK"
      }
    },
    {
      "cell_type": "markdown",
      "source": [
        "Посмотрим, сколько пользователей одновременно имеют аккаунт в 3х компаниях (т.к. о компании red такой информации нет)"
      ],
      "metadata": {
        "id": "0dyKGGOtYC-A"
      }
    },
    {
      "cell_type": "code",
      "source": [
        "for col in data.columns:\n",
        "    if 'has' in str(col):\n",
        "        data[col] = pd.to_numeric(data[col])"
      ],
      "metadata": {
        "id": "qKudTjA-YHco"
      },
      "execution_count": null,
      "outputs": []
    },
    {
      "cell_type": "code",
      "source": [
        "has_account = data[(data['has_black_id'] == 1) & (data['has_green_id'] == 1) & (data['has_blue_id'] == 1)]\n",
        "len(has_account)"
      ],
      "metadata": {
        "id": "I1hWPwU6YL5Q",
        "colab": {
          "base_uri": "https://localhost:8080/"
        },
        "outputId": "f2895b92-f480-4867-bb9c-fb21c1f2381f"
      },
      "execution_count": null,
      "outputs": [
        {
          "output_type": "execute_result",
          "data": {
            "text/plain": [
              "21"
            ]
          },
          "metadata": {},
          "execution_count": 184
        }
      ]
    },
    {
      "cell_type": "markdown",
      "source": [
        "Всего 21 пользователь имеет зарегистрированный аккаунт одновременно в 3х компаниях."
      ],
      "metadata": {
        "id": "8bH7JBXsYNSJ"
      }
    },
    {
      "cell_type": "code",
      "source": [
        "all_companies = [red,blue,black,green]\n",
        "names = ['red','blue','black','green']\n",
        "\n",
        "for name,company in enumerate(all_companies):\n",
        "    lens = len(company[(company['android'] == '1.0') & (company['web'] == '1.0') & (company['apple'] == '1.0')])\n",
        "    print(f'Кол-во пользователей в компании {names[name]}, которые одновременно используют все каналы: web, apple, android  в компании {lens}')"
      ],
      "metadata": {
        "id": "8Sg01eJ5YQkX",
        "colab": {
          "base_uri": "https://localhost:8080/"
        },
        "outputId": "96b08754-b754-4733-8d14-45c681ab3ec1"
      },
      "execution_count": null,
      "outputs": [
        {
          "output_type": "stream",
          "name": "stdout",
          "text": [
            "Кол-во пользователей в компании red, которые одновременно используют все каналы: web, apple, android  в компании 2415\n",
            "Кол-во пользователей в компании blue, которые одновременно используют все каналы: web, apple, android  в компании 76\n",
            "Кол-во пользователей в компании black, которые одновременно используют все каналы: web, apple, android  в компании 4\n",
            "Кол-во пользователей в компании green, которые одновременно используют все каналы: web, apple, android  в компании 1\n"
          ]
        }
      ]
    },
    {
      "cell_type": "markdown",
      "source": [
        "Мы видим, что в компании red больше всего тех пользователей, которые одновременно используют все каналы коммуникации, в компании Green всего 1 такой пользователь, в компании Black - 4. По результатам анализа компаний выше мы сделали вывод о том, что в компании Red больше всего пользователей, у которых есть приложение компании на разных платформах, кроме того 2415 имеют одновременно приложения на всех представленных платформах. Зачем им это нужно? Может, компания таким образом обязала всех своих сотрудников установить приложение на всех возможных девайсах, и у всех оказались android, apple и ПК. Это может показаться странным. Скорее всего, здесь другая причина."
      ],
      "metadata": {
        "id": "99v4i2KsYSXK"
      }
    },
    {
      "cell_type": "markdown",
      "source": [
        "**3. Статистический анализ**"
      ],
      "metadata": {
        "id": "ejsMLscKYULh"
      }
    },
    {
      "cell_type": "markdown",
      "source": [
        "**Логистическая регрессия**: Проведем логистическую регрессию, чтобы определить, какие факторы, такие как наличие зарегистрированного аккаунта или установленного приложения, оказывают наибольшее влияние на проживание в Москве."
      ],
      "metadata": {
        "id": "V6bLRvEAYWRw"
      }
    },
    {
      "cell_type": "code",
      "source": [
        "def regression(company):\n",
        "    company = company.drop('hid', axis = 1)\n",
        "    company = company.astype(float)\n",
        "\n",
        "    Y = company['is_msk']\n",
        "    X = company[['has', 'apple', 'android', 'web']]\n",
        "\n",
        "    X = sm.add_constant(X, prepend=False)\n",
        "\n",
        "    model = sm.Logit(Y, X)\n",
        "    result = model.fit()\n",
        "\n",
        "\n",
        "    return print(result.summary())"
      ],
      "metadata": {
        "id": "dgGCyIjtYW4M"
      },
      "execution_count": null,
      "outputs": []
    },
    {
      "cell_type": "code",
      "source": [
        "regression(blue)"
      ],
      "metadata": {
        "id": "F-cRRcscYYaU",
        "colab": {
          "base_uri": "https://localhost:8080/"
        },
        "outputId": "5f650737-9ad9-424e-8863-66c8a87240b9"
      },
      "execution_count": null,
      "outputs": [
        {
          "output_type": "stream",
          "name": "stdout",
          "text": [
            "Optimization terminated successfully.\n",
            "         Current function value: 0.360370\n",
            "         Iterations 6\n",
            "                           Logit Regression Results                           \n",
            "==============================================================================\n",
            "Dep. Variable:                 is_msk   No. Observations:                99483\n",
            "Model:                          Logit   Df Residuals:                    99478\n",
            "Method:                           MLE   Df Model:                            4\n",
            "Date:                Wed, 24 May 2023   Pseudo R-squ.:                 0.01225\n",
            "Time:                        18:32:19   Log-Likelihood:                -35851.\n",
            "converged:                       True   LL-Null:                       -36295.\n",
            "Covariance Type:            nonrobust   LLR p-value:                3.995e-191\n",
            "==============================================================================\n",
            "                 coef    std err          z      P>|z|      [0.025      0.975]\n",
            "------------------------------------------------------------------------------\n",
            "has            0.1913      0.028      6.779      0.000       0.136       0.247\n",
            "apple          0.8770      0.037     23.810      0.000       0.805       0.949\n",
            "android        0.3749      0.033     11.337      0.000       0.310       0.440\n",
            "web            0.2663      0.030      8.961      0.000       0.208       0.325\n",
            "const         -2.1507      0.012   -183.809      0.000      -2.174      -2.128\n",
            "==============================================================================\n"
          ]
        }
      ]
    },
    {
      "cell_type": "markdown",
      "source": [
        "По результатам проведения логистической регрессии по компании Blue мы видим, что наибольшее влияние на проживание в Москве оказывает наличие приложения на платформе Apple, затем идут приложения на платформе Android и на веб-платформе. Наличие аккаунта оказывает наименьшее влияние на проживание в Москве."
      ],
      "metadata": {
        "id": "HQmRko9aYcpK"
      }
    },
    {
      "cell_type": "code",
      "source": [
        "regression(green)"
      ],
      "metadata": {
        "id": "FuEGzGlDYePM",
        "colab": {
          "base_uri": "https://localhost:8080/"
        },
        "outputId": "532cda76-ac4f-4a72-bee7-e6b2633f5c57"
      },
      "execution_count": null,
      "outputs": [
        {
          "output_type": "stream",
          "name": "stdout",
          "text": [
            "Optimization terminated successfully.\n",
            "         Current function value: 0.344388\n",
            "         Iterations 6\n",
            "                           Logit Regression Results                           \n",
            "==============================================================================\n",
            "Dep. Variable:                 is_msk   No. Observations:                99996\n",
            "Model:                          Logit   Df Residuals:                    99991\n",
            "Method:                           MLE   Df Model:                            4\n",
            "Date:                Wed, 24 May 2023   Pseudo R-squ.:                 0.05719\n",
            "Time:                        18:32:20   Log-Likelihood:                -34437.\n",
            "converged:                       True   LL-Null:                       -36526.\n",
            "Covariance Type:            nonrobust   LLR p-value:                     0.000\n",
            "==============================================================================\n",
            "                 coef    std err          z      P>|z|      [0.025      0.975]\n",
            "------------------------------------------------------------------------------\n",
            "has            2.4632      0.090     27.358      0.000       2.287       2.640\n",
            "apple          3.3616      0.120     28.034      0.000       3.127       3.597\n",
            "android        3.0844      0.116     26.505      0.000       2.856       3.313\n",
            "web            2.6698      0.164     16.231      0.000       2.347       2.992\n",
            "const         -2.1144      0.010   -205.521      0.000      -2.135      -2.094\n",
            "==============================================================================\n"
          ]
        }
      ]
    },
    {
      "cell_type": "markdown",
      "source": [
        "По результатам проведения логистической регрессии по компании Green мы видим, что наибольшее влияние на проживание в Москве опять оказывает наличие приложения на платформе Apple, затем идут приложения на платформе Android и на веб-платформе. Наличие аккаунта оказывает наименьшее влияние на проживание в Москве, но большее, чем в предыдущей компании."
      ],
      "metadata": {
        "id": "upkcLwNGYfoM"
      }
    },
    {
      "cell_type": "code",
      "source": [
        "regression(black)"
      ],
      "metadata": {
        "id": "Gqxgfk7OYiNr",
        "colab": {
          "base_uri": "https://localhost:8080/"
        },
        "outputId": "25e30b1a-a283-4c0f-c044-24c87f375473"
      },
      "execution_count": null,
      "outputs": [
        {
          "output_type": "stream",
          "name": "stdout",
          "text": [
            "Optimization terminated successfully.\n",
            "         Current function value: 0.358768\n",
            "         Iterations 6\n",
            "                           Logit Regression Results                           \n",
            "==============================================================================\n",
            "Dep. Variable:                 is_msk   No. Observations:                99995\n",
            "Model:                          Logit   Df Residuals:                    99990\n",
            "Method:                           MLE   Df Model:                            4\n",
            "Date:                Wed, 24 May 2023   Pseudo R-squ.:                 0.01804\n",
            "Time:                        18:32:21   Log-Likelihood:                -35875.\n",
            "converged:                       True   LL-Null:                       -36534.\n",
            "Covariance Type:            nonrobust   LLR p-value:                3.399e-284\n",
            "==============================================================================\n",
            "                 coef    std err          z      P>|z|      [0.025      0.975]\n",
            "------------------------------------------------------------------------------\n",
            "has            0.7862      0.073     10.803      0.000       0.644       0.929\n",
            "apple          1.0950      0.055     19.964      0.000       0.987       1.203\n",
            "android        0.5951      0.076      7.807      0.000       0.446       0.745\n",
            "web            1.3209      0.057     23.087      0.000       1.209       1.433\n",
            "const         -2.0828      0.010   -203.031      0.000      -2.103      -2.063\n",
            "==============================================================================\n"
          ]
        }
      ]
    },
    {
      "cell_type": "markdown",
      "source": [
        "По результатам проведения логистической регрессии по компании Black мы видим, что наибольшее влияние на проживание в Москве  оказывает наличие приложения на платформе web, затем идет платформа apple и наличие зарегистрированного аккаунта, меньшее влияние на проживание в Москве пользователей компании Black оказывает наличие приложения на платформе android."
      ],
      "metadata": {
        "id": "S74KooWEYi4Z"
      }
    },
    {
      "cell_type": "markdown",
      "source": [
        "**4. Общий вывод**"
      ],
      "metadata": {
        "id": "yzoYyPqFYkkV"
      }
    },
    {
      "cell_type": "markdown",
      "source": [
        "Таким образом, по приведенным данным можно сделать следующие выводы:\n",
        "\n",
        "- Данные по компаниям представлены неполно (не для всех компаний есть данные об активных пользователях, информации по gmv и тд)\n",
        "\n",
        "\n",
        "- По компании Red представлено меньше всего данных (меньше всего столбцов)\n",
        "\n",
        "\n",
        "- Компания Green отличается наименьшим количеством зарегистрированных аккаунтов и установленных приложений на представленных платформах по сравнению с другими компаниями\n",
        "\n",
        "\n",
        "- Компания Red  отличается тем, что в ней наибольшее кол-во пользователей с установленными приложениями компании на всех представленных платформах. Кроме того, кол-во активных действий ограничивается 1 (это может объясняться тем, что клиент заходит на сайт, не находит нужной информации и больше не возвращается. Это может быть обусловлено неправильной настроенной таргетированной рекламой), когда у компании Black достигает выше 80ти. Это говорит о низкой активности в компании Red.\n",
        "\n",
        "\n",
        "- В данных по gmv  в каждой компании превалируют значения равные 0. gmv отражает активность на торговой площадки — чем выше показатель, тем выше ожидаются доходы. В данном случае можно говорить о низкой активности на торговых площадках компаний\n",
        "\n",
        "\n",
        "- Говоря про кол-во успешных заказов, также стоит отметить превалирущее кол-во нулей. Это может говорить также о низкой активности в компаниях или о тех.сбоях.\n",
        "\n",
        "\n",
        "- Распределение пользователей по Москве из каждой компании примерно одинаково. Преобладают пользователи из Москвы, и в каждой компании их кол-во составляет 88%, остальные располагаются в других регионах. Кроме того на проживание в Москве оказывают влияние некоторые факторы: для компаний Green  и Blue - это наличие установленных приложений на платформе apple, для компании Black - на web.\n",
        "\n",
        "\n",
        "- Средний показатель gmv наибольший у компании Black. Следовательно, ее положение на рынке по уровню дохода и активности выше, чем у других.\n"
      ],
      "metadata": {
        "id": "dIS3ttFIYnzQ"
      }
    }
  ]
}